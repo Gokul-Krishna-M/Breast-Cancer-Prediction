{
 "cells": [
  {
   "cell_type": "code",
   "execution_count": 3,
   "id": "d855a9a3",
   "metadata": {},
   "outputs": [],
   "source": [
    "#Import the neccessary Libraries\n",
    "import pandas as pd\n",
    "import numpy as np\n",
    "import matplotlib.pyplot as plt\n",
    "import seaborn as sns"
   ]
  },
  {
   "cell_type": "code",
   "execution_count": 4,
   "id": "fc4b0ca4",
   "metadata": {},
   "outputs": [],
   "source": [
    "#Reading the data\n",
    "data = pd.read_csv(\"data.csv\")"
   ]
  },
  {
   "cell_type": "code",
   "execution_count": 5,
   "id": "8de21174",
   "metadata": {},
   "outputs": [
    {
     "data": {
      "text/html": [
       "<div>\n",
       "<style scoped>\n",
       "    .dataframe tbody tr th:only-of-type {\n",
       "        vertical-align: middle;\n",
       "    }\n",
       "\n",
       "    .dataframe tbody tr th {\n",
       "        vertical-align: top;\n",
       "    }\n",
       "\n",
       "    .dataframe thead th {\n",
       "        text-align: right;\n",
       "    }\n",
       "</style>\n",
       "<table border=\"1\" class=\"dataframe\">\n",
       "  <thead>\n",
       "    <tr style=\"text-align: right;\">\n",
       "      <th></th>\n",
       "      <th>id</th>\n",
       "      <th>diagnosis</th>\n",
       "      <th>radius_mean</th>\n",
       "      <th>texture_mean</th>\n",
       "      <th>perimeter_mean</th>\n",
       "      <th>area_mean</th>\n",
       "      <th>smoothness_mean</th>\n",
       "      <th>compactness_mean</th>\n",
       "      <th>concavity_mean</th>\n",
       "      <th>concave points_mean</th>\n",
       "      <th>...</th>\n",
       "      <th>radius_worst</th>\n",
       "      <th>texture_worst</th>\n",
       "      <th>perimeter_worst</th>\n",
       "      <th>area_worst</th>\n",
       "      <th>smoothness_worst</th>\n",
       "      <th>compactness_worst</th>\n",
       "      <th>concavity_worst</th>\n",
       "      <th>concave points_worst</th>\n",
       "      <th>symmetry_worst</th>\n",
       "      <th>fractal_dimension_worst</th>\n",
       "    </tr>\n",
       "  </thead>\n",
       "  <tbody>\n",
       "    <tr>\n",
       "      <th>0</th>\n",
       "      <td>842302</td>\n",
       "      <td>M</td>\n",
       "      <td>17.99</td>\n",
       "      <td>NaN</td>\n",
       "      <td>122.80</td>\n",
       "      <td>1001.0</td>\n",
       "      <td>0.1184</td>\n",
       "      <td>0.2776</td>\n",
       "      <td>NaN</td>\n",
       "      <td>0.14710</td>\n",
       "      <td>...</td>\n",
       "      <td>NaN</td>\n",
       "      <td>17.33</td>\n",
       "      <td>184.60</td>\n",
       "      <td>2019.0</td>\n",
       "      <td>0.1622</td>\n",
       "      <td>0.6656</td>\n",
       "      <td>0.7119</td>\n",
       "      <td>0.2654</td>\n",
       "      <td>NaN</td>\n",
       "      <td>0.11890</td>\n",
       "    </tr>\n",
       "    <tr>\n",
       "      <th>1</th>\n",
       "      <td>842517</td>\n",
       "      <td>M</td>\n",
       "      <td>20.57</td>\n",
       "      <td>17.77</td>\n",
       "      <td>NaN</td>\n",
       "      <td>1326.0</td>\n",
       "      <td>NaN</td>\n",
       "      <td>0.1002</td>\n",
       "      <td>0.0869</td>\n",
       "      <td>0.07017</td>\n",
       "      <td>...</td>\n",
       "      <td>24.99</td>\n",
       "      <td>23.41</td>\n",
       "      <td>158.80</td>\n",
       "      <td>1956.0</td>\n",
       "      <td>0.1238</td>\n",
       "      <td>0.1866</td>\n",
       "      <td>0.2416</td>\n",
       "      <td>0.1860</td>\n",
       "      <td>0.2750</td>\n",
       "      <td>NaN</td>\n",
       "    </tr>\n",
       "    <tr>\n",
       "      <th>2</th>\n",
       "      <td>84300903</td>\n",
       "      <td>M</td>\n",
       "      <td>19.69</td>\n",
       "      <td>21.25</td>\n",
       "      <td>130.00</td>\n",
       "      <td>1203.0</td>\n",
       "      <td>0.1096</td>\n",
       "      <td>0.1599</td>\n",
       "      <td>0.1974</td>\n",
       "      <td>0.12790</td>\n",
       "      <td>...</td>\n",
       "      <td>23.57</td>\n",
       "      <td>25.53</td>\n",
       "      <td>152.50</td>\n",
       "      <td>NaN</td>\n",
       "      <td>0.1444</td>\n",
       "      <td>0.4245</td>\n",
       "      <td>NaN</td>\n",
       "      <td>NaN</td>\n",
       "      <td>0.3613</td>\n",
       "      <td>0.08758</td>\n",
       "    </tr>\n",
       "    <tr>\n",
       "      <th>3</th>\n",
       "      <td>84348301</td>\n",
       "      <td>M</td>\n",
       "      <td>NaN</td>\n",
       "      <td>20.38</td>\n",
       "      <td>77.58</td>\n",
       "      <td>386.1</td>\n",
       "      <td>0.1425</td>\n",
       "      <td>0.2839</td>\n",
       "      <td>0.2414</td>\n",
       "      <td>NaN</td>\n",
       "      <td>...</td>\n",
       "      <td>14.91</td>\n",
       "      <td>NaN</td>\n",
       "      <td>98.87</td>\n",
       "      <td>567.7</td>\n",
       "      <td>0.2098</td>\n",
       "      <td>NaN</td>\n",
       "      <td>0.6869</td>\n",
       "      <td>0.2575</td>\n",
       "      <td>0.6638</td>\n",
       "      <td>0.17300</td>\n",
       "    </tr>\n",
       "    <tr>\n",
       "      <th>4</th>\n",
       "      <td>84358402</td>\n",
       "      <td>M</td>\n",
       "      <td>20.29</td>\n",
       "      <td>14.34</td>\n",
       "      <td>135.10</td>\n",
       "      <td>1297.0</td>\n",
       "      <td>0.1003</td>\n",
       "      <td>0.1457</td>\n",
       "      <td>0.1980</td>\n",
       "      <td>0.10430</td>\n",
       "      <td>...</td>\n",
       "      <td>22.54</td>\n",
       "      <td>16.67</td>\n",
       "      <td>152.20</td>\n",
       "      <td>1575.0</td>\n",
       "      <td>NaN</td>\n",
       "      <td>0.2050</td>\n",
       "      <td>0.4000</td>\n",
       "      <td>0.1625</td>\n",
       "      <td>0.2364</td>\n",
       "      <td>0.07678</td>\n",
       "    </tr>\n",
       "  </tbody>\n",
       "</table>\n",
       "<p>5 rows × 32 columns</p>\n",
       "</div>"
      ],
      "text/plain": [
       "         id diagnosis  radius_mean  texture_mean  perimeter_mean  area_mean  \\\n",
       "0    842302         M        17.99           NaN          122.80     1001.0   \n",
       "1    842517         M        20.57         17.77             NaN     1326.0   \n",
       "2  84300903         M        19.69         21.25          130.00     1203.0   \n",
       "3  84348301         M          NaN         20.38           77.58      386.1   \n",
       "4  84358402         M        20.29         14.34          135.10     1297.0   \n",
       "\n",
       "   smoothness_mean  compactness_mean  concavity_mean  concave points_mean  \\\n",
       "0           0.1184            0.2776             NaN              0.14710   \n",
       "1              NaN            0.1002          0.0869              0.07017   \n",
       "2           0.1096            0.1599          0.1974              0.12790   \n",
       "3           0.1425            0.2839          0.2414                  NaN   \n",
       "4           0.1003            0.1457          0.1980              0.10430   \n",
       "\n",
       "   ...  radius_worst  texture_worst  perimeter_worst  area_worst  \\\n",
       "0  ...           NaN          17.33           184.60      2019.0   \n",
       "1  ...         24.99          23.41           158.80      1956.0   \n",
       "2  ...         23.57          25.53           152.50         NaN   \n",
       "3  ...         14.91            NaN            98.87       567.7   \n",
       "4  ...         22.54          16.67           152.20      1575.0   \n",
       "\n",
       "   smoothness_worst  compactness_worst  concavity_worst  concave points_worst  \\\n",
       "0            0.1622             0.6656           0.7119                0.2654   \n",
       "1            0.1238             0.1866           0.2416                0.1860   \n",
       "2            0.1444             0.4245              NaN                   NaN   \n",
       "3            0.2098                NaN           0.6869                0.2575   \n",
       "4               NaN             0.2050           0.4000                0.1625   \n",
       "\n",
       "   symmetry_worst  fractal_dimension_worst  \n",
       "0             NaN                  0.11890  \n",
       "1          0.2750                      NaN  \n",
       "2          0.3613                  0.08758  \n",
       "3          0.6638                  0.17300  \n",
       "4          0.2364                  0.07678  \n",
       "\n",
       "[5 rows x 32 columns]"
      ]
     },
     "execution_count": 5,
     "metadata": {},
     "output_type": "execute_result"
    }
   ],
   "source": [
    "#Printing the first few rows\n",
    "data.head()"
   ]
  },
  {
   "cell_type": "code",
   "execution_count": 6,
   "id": "f428dc44",
   "metadata": {},
   "outputs": [
    {
     "data": {
      "text/plain": [
       "(569, 32)"
      ]
     },
     "execution_count": 6,
     "metadata": {},
     "output_type": "execute_result"
    }
   ],
   "source": [
    "data.shape#Dimension of the data frame"
   ]
  },
  {
   "cell_type": "code",
   "execution_count": 7,
   "id": "53e706d0",
   "metadata": {},
   "outputs": [
    {
     "data": {
      "text/html": [
       "<div>\n",
       "<style scoped>\n",
       "    .dataframe tbody tr th:only-of-type {\n",
       "        vertical-align: middle;\n",
       "    }\n",
       "\n",
       "    .dataframe tbody tr th {\n",
       "        vertical-align: top;\n",
       "    }\n",
       "\n",
       "    .dataframe thead th {\n",
       "        text-align: right;\n",
       "    }\n",
       "</style>\n",
       "<table border=\"1\" class=\"dataframe\">\n",
       "  <thead>\n",
       "    <tr style=\"text-align: right;\">\n",
       "      <th></th>\n",
       "      <th>id</th>\n",
       "      <th>radius_mean</th>\n",
       "      <th>texture_mean</th>\n",
       "      <th>perimeter_mean</th>\n",
       "      <th>area_mean</th>\n",
       "      <th>smoothness_mean</th>\n",
       "      <th>compactness_mean</th>\n",
       "      <th>concavity_mean</th>\n",
       "      <th>concave points_mean</th>\n",
       "      <th>symmetry_mean</th>\n",
       "      <th>...</th>\n",
       "      <th>radius_worst</th>\n",
       "      <th>texture_worst</th>\n",
       "      <th>perimeter_worst</th>\n",
       "      <th>area_worst</th>\n",
       "      <th>smoothness_worst</th>\n",
       "      <th>compactness_worst</th>\n",
       "      <th>concavity_worst</th>\n",
       "      <th>concave points_worst</th>\n",
       "      <th>symmetry_worst</th>\n",
       "      <th>fractal_dimension_worst</th>\n",
       "    </tr>\n",
       "  </thead>\n",
       "  <tbody>\n",
       "    <tr>\n",
       "      <th>count</th>\n",
       "      <td>5.690000e+02</td>\n",
       "      <td>529.000000</td>\n",
       "      <td>546.000000</td>\n",
       "      <td>548.000000</td>\n",
       "      <td>533.000000</td>\n",
       "      <td>523.000000</td>\n",
       "      <td>521.000000</td>\n",
       "      <td>543.000000</td>\n",
       "      <td>539.000000</td>\n",
       "      <td>552.000000</td>\n",
       "      <td>...</td>\n",
       "      <td>517.000000</td>\n",
       "      <td>550.000000</td>\n",
       "      <td>563.000000</td>\n",
       "      <td>520.000000</td>\n",
       "      <td>523.000000</td>\n",
       "      <td>546.000000</td>\n",
       "      <td>542.000000</td>\n",
       "      <td>532.000000</td>\n",
       "      <td>527.000000</td>\n",
       "      <td>538.000000</td>\n",
       "    </tr>\n",
       "    <tr>\n",
       "      <th>mean</th>\n",
       "      <td>3.037183e+07</td>\n",
       "      <td>14.216845</td>\n",
       "      <td>19.259524</td>\n",
       "      <td>92.084215</td>\n",
       "      <td>649.578987</td>\n",
       "      <td>0.096225</td>\n",
       "      <td>0.104978</td>\n",
       "      <td>0.087063</td>\n",
       "      <td>0.048771</td>\n",
       "      <td>0.180716</td>\n",
       "      <td>...</td>\n",
       "      <td>16.317518</td>\n",
       "      <td>25.596982</td>\n",
       "      <td>107.047975</td>\n",
       "      <td>893.560385</td>\n",
       "      <td>0.132735</td>\n",
       "      <td>0.252812</td>\n",
       "      <td>0.271253</td>\n",
       "      <td>0.113338</td>\n",
       "      <td>0.290327</td>\n",
       "      <td>0.083921</td>\n",
       "    </tr>\n",
       "    <tr>\n",
       "      <th>std</th>\n",
       "      <td>1.250206e+08</td>\n",
       "      <td>3.579984</td>\n",
       "      <td>4.284827</td>\n",
       "      <td>24.288435</td>\n",
       "      <td>350.702849</td>\n",
       "      <td>0.014122</td>\n",
       "      <td>0.053365</td>\n",
       "      <td>0.078165</td>\n",
       "      <td>0.039129</td>\n",
       "      <td>0.027477</td>\n",
       "      <td>...</td>\n",
       "      <td>4.825679</td>\n",
       "      <td>6.179229</td>\n",
       "      <td>33.481178</td>\n",
       "      <td>582.829079</td>\n",
       "      <td>0.023109</td>\n",
       "      <td>0.155683</td>\n",
       "      <td>0.207909</td>\n",
       "      <td>0.065122</td>\n",
       "      <td>0.061585</td>\n",
       "      <td>0.018031</td>\n",
       "    </tr>\n",
       "    <tr>\n",
       "      <th>min</th>\n",
       "      <td>8.670000e+03</td>\n",
       "      <td>6.981000</td>\n",
       "      <td>9.710000</td>\n",
       "      <td>43.790000</td>\n",
       "      <td>143.500000</td>\n",
       "      <td>0.052630</td>\n",
       "      <td>0.007830</td>\n",
       "      <td>0.000000</td>\n",
       "      <td>0.000000</td>\n",
       "      <td>0.106000</td>\n",
       "      <td>...</td>\n",
       "      <td>8.678000</td>\n",
       "      <td>12.020000</td>\n",
       "      <td>50.410000</td>\n",
       "      <td>185.200000</td>\n",
       "      <td>0.071170</td>\n",
       "      <td>0.034320</td>\n",
       "      <td>0.000000</td>\n",
       "      <td>0.000000</td>\n",
       "      <td>0.156500</td>\n",
       "      <td>0.055040</td>\n",
       "    </tr>\n",
       "    <tr>\n",
       "      <th>25%</th>\n",
       "      <td>8.692180e+05</td>\n",
       "      <td>11.740000</td>\n",
       "      <td>16.172500</td>\n",
       "      <td>75.247500</td>\n",
       "      <td>416.200000</td>\n",
       "      <td>0.085855</td>\n",
       "      <td>0.065450</td>\n",
       "      <td>0.029520</td>\n",
       "      <td>0.020310</td>\n",
       "      <td>0.161800</td>\n",
       "      <td>...</td>\n",
       "      <td>13.010000</td>\n",
       "      <td>20.992500</td>\n",
       "      <td>84.035000</td>\n",
       "      <td>515.675000</td>\n",
       "      <td>0.116900</td>\n",
       "      <td>0.147325</td>\n",
       "      <td>0.112975</td>\n",
       "      <td>0.063302</td>\n",
       "      <td>0.251350</td>\n",
       "      <td>0.071318</td>\n",
       "    </tr>\n",
       "    <tr>\n",
       "      <th>50%</th>\n",
       "      <td>9.060240e+05</td>\n",
       "      <td>13.430000</td>\n",
       "      <td>18.785000</td>\n",
       "      <td>86.140000</td>\n",
       "      <td>545.200000</td>\n",
       "      <td>0.095780</td>\n",
       "      <td>0.094530</td>\n",
       "      <td>0.059880</td>\n",
       "      <td>0.033260</td>\n",
       "      <td>0.178600</td>\n",
       "      <td>...</td>\n",
       "      <td>14.990000</td>\n",
       "      <td>25.225000</td>\n",
       "      <td>97.660000</td>\n",
       "      <td>688.100000</td>\n",
       "      <td>0.131300</td>\n",
       "      <td>0.211450</td>\n",
       "      <td>0.227450</td>\n",
       "      <td>0.098545</td>\n",
       "      <td>0.282300</td>\n",
       "      <td>0.079900</td>\n",
       "    </tr>\n",
       "    <tr>\n",
       "      <th>75%</th>\n",
       "      <td>8.813129e+06</td>\n",
       "      <td>16.130000</td>\n",
       "      <td>21.695000</td>\n",
       "      <td>104.400000</td>\n",
       "      <td>781.000000</td>\n",
       "      <td>0.105100</td>\n",
       "      <td>0.130500</td>\n",
       "      <td>0.125050</td>\n",
       "      <td>0.073520</td>\n",
       "      <td>0.195400</td>\n",
       "      <td>...</td>\n",
       "      <td>19.070000</td>\n",
       "      <td>29.497500</td>\n",
       "      <td>125.050000</td>\n",
       "      <td>1121.750000</td>\n",
       "      <td>0.146450</td>\n",
       "      <td>0.336450</td>\n",
       "      <td>0.379550</td>\n",
       "      <td>0.160750</td>\n",
       "      <td>0.317750</td>\n",
       "      <td>0.092140</td>\n",
       "    </tr>\n",
       "    <tr>\n",
       "      <th>max</th>\n",
       "      <td>9.113205e+08</td>\n",
       "      <td>28.110000</td>\n",
       "      <td>39.280000</td>\n",
       "      <td>188.500000</td>\n",
       "      <td>2501.000000</td>\n",
       "      <td>0.163400</td>\n",
       "      <td>0.345400</td>\n",
       "      <td>0.426400</td>\n",
       "      <td>0.201200</td>\n",
       "      <td>0.304000</td>\n",
       "      <td>...</td>\n",
       "      <td>36.040000</td>\n",
       "      <td>49.540000</td>\n",
       "      <td>251.200000</td>\n",
       "      <td>4254.000000</td>\n",
       "      <td>0.222600</td>\n",
       "      <td>1.058000</td>\n",
       "      <td>1.252000</td>\n",
       "      <td>0.291000</td>\n",
       "      <td>0.663800</td>\n",
       "      <td>0.207500</td>\n",
       "    </tr>\n",
       "  </tbody>\n",
       "</table>\n",
       "<p>8 rows × 31 columns</p>\n",
       "</div>"
      ],
      "text/plain": [
       "                 id  radius_mean  texture_mean  perimeter_mean    area_mean  \\\n",
       "count  5.690000e+02   529.000000    546.000000      548.000000   533.000000   \n",
       "mean   3.037183e+07    14.216845     19.259524       92.084215   649.578987   \n",
       "std    1.250206e+08     3.579984      4.284827       24.288435   350.702849   \n",
       "min    8.670000e+03     6.981000      9.710000       43.790000   143.500000   \n",
       "25%    8.692180e+05    11.740000     16.172500       75.247500   416.200000   \n",
       "50%    9.060240e+05    13.430000     18.785000       86.140000   545.200000   \n",
       "75%    8.813129e+06    16.130000     21.695000      104.400000   781.000000   \n",
       "max    9.113205e+08    28.110000     39.280000      188.500000  2501.000000   \n",
       "\n",
       "       smoothness_mean  compactness_mean  concavity_mean  concave points_mean  \\\n",
       "count       523.000000        521.000000      543.000000           539.000000   \n",
       "mean          0.096225          0.104978        0.087063             0.048771   \n",
       "std           0.014122          0.053365        0.078165             0.039129   \n",
       "min           0.052630          0.007830        0.000000             0.000000   \n",
       "25%           0.085855          0.065450        0.029520             0.020310   \n",
       "50%           0.095780          0.094530        0.059880             0.033260   \n",
       "75%           0.105100          0.130500        0.125050             0.073520   \n",
       "max           0.163400          0.345400        0.426400             0.201200   \n",
       "\n",
       "       symmetry_mean  ...  radius_worst  texture_worst  perimeter_worst  \\\n",
       "count     552.000000  ...    517.000000     550.000000       563.000000   \n",
       "mean        0.180716  ...     16.317518      25.596982       107.047975   \n",
       "std         0.027477  ...      4.825679       6.179229        33.481178   \n",
       "min         0.106000  ...      8.678000      12.020000        50.410000   \n",
       "25%         0.161800  ...     13.010000      20.992500        84.035000   \n",
       "50%         0.178600  ...     14.990000      25.225000        97.660000   \n",
       "75%         0.195400  ...     19.070000      29.497500       125.050000   \n",
       "max         0.304000  ...     36.040000      49.540000       251.200000   \n",
       "\n",
       "        area_worst  smoothness_worst  compactness_worst  concavity_worst  \\\n",
       "count   520.000000        523.000000         546.000000       542.000000   \n",
       "mean    893.560385          0.132735           0.252812         0.271253   \n",
       "std     582.829079          0.023109           0.155683         0.207909   \n",
       "min     185.200000          0.071170           0.034320         0.000000   \n",
       "25%     515.675000          0.116900           0.147325         0.112975   \n",
       "50%     688.100000          0.131300           0.211450         0.227450   \n",
       "75%    1121.750000          0.146450           0.336450         0.379550   \n",
       "max    4254.000000          0.222600           1.058000         1.252000   \n",
       "\n",
       "       concave points_worst  symmetry_worst  fractal_dimension_worst  \n",
       "count            532.000000      527.000000               538.000000  \n",
       "mean               0.113338        0.290327                 0.083921  \n",
       "std                0.065122        0.061585                 0.018031  \n",
       "min                0.000000        0.156500                 0.055040  \n",
       "25%                0.063302        0.251350                 0.071318  \n",
       "50%                0.098545        0.282300                 0.079900  \n",
       "75%                0.160750        0.317750                 0.092140  \n",
       "max                0.291000        0.663800                 0.207500  \n",
       "\n",
       "[8 rows x 31 columns]"
      ]
     },
     "execution_count": 7,
     "metadata": {},
     "output_type": "execute_result"
    }
   ],
   "source": [
    "data.describe()#Descriptive Statistics"
   ]
  },
  {
   "cell_type": "code",
   "execution_count": 8,
   "id": "99a85623",
   "metadata": {},
   "outputs": [
    {
     "name": "stdout",
     "output_type": "stream",
     "text": [
      "<class 'pandas.core.frame.DataFrame'>\n",
      "RangeIndex: 569 entries, 0 to 568\n",
      "Data columns (total 32 columns):\n",
      " #   Column                   Non-Null Count  Dtype  \n",
      "---  ------                   --------------  -----  \n",
      " 0   id                       569 non-null    int64  \n",
      " 1   diagnosis                569 non-null    object \n",
      " 2   radius_mean              529 non-null    float64\n",
      " 3   texture_mean             546 non-null    float64\n",
      " 4   perimeter_mean           548 non-null    float64\n",
      " 5   area_mean                533 non-null    float64\n",
      " 6   smoothness_mean          523 non-null    float64\n",
      " 7   compactness_mean         521 non-null    float64\n",
      " 8   concavity_mean           543 non-null    float64\n",
      " 9   concave points_mean      539 non-null    float64\n",
      " 10  symmetry_mean            552 non-null    float64\n",
      " 11  fractal_dimension_mean   529 non-null    float64\n",
      " 12  radius_se                553 non-null    float64\n",
      " 13  texture_se               524 non-null    float64\n",
      " 14  perimeter_se             539 non-null    float64\n",
      " 15  area_se                  537 non-null    float64\n",
      " 16  smoothness_se            540 non-null    float64\n",
      " 17  compactness_se           523 non-null    float64\n",
      " 18  concavity_se             529 non-null    float64\n",
      " 19  concave points_se        563 non-null    float64\n",
      " 20  symmetry_se              541 non-null    float64\n",
      " 21  fractal_dimension_se     543 non-null    float64\n",
      " 22  radius_worst             517 non-null    float64\n",
      " 23  texture_worst            550 non-null    float64\n",
      " 24  perimeter_worst          563 non-null    float64\n",
      " 25  area_worst               520 non-null    float64\n",
      " 26  smoothness_worst         523 non-null    float64\n",
      " 27  compactness_worst        546 non-null    float64\n",
      " 28  concavity_worst          542 non-null    float64\n",
      " 29  concave points_worst     532 non-null    float64\n",
      " 30  symmetry_worst           527 non-null    float64\n",
      " 31  fractal_dimension_worst  538 non-null    float64\n",
      "dtypes: float64(30), int64(1), object(1)\n",
      "memory usage: 142.4+ KB\n"
     ]
    }
   ],
   "source": [
    "data.info()#To see the every features data type"
   ]
  },
  {
   "cell_type": "code",
   "execution_count": 9,
   "id": "a54a962b",
   "metadata": {},
   "outputs": [
    {
     "data": {
      "text/plain": [
       "id                          0\n",
       "diagnosis                   0\n",
       "radius_mean                40\n",
       "texture_mean               23\n",
       "perimeter_mean             21\n",
       "area_mean                  36\n",
       "smoothness_mean            46\n",
       "compactness_mean           48\n",
       "concavity_mean             26\n",
       "concave points_mean        30\n",
       "symmetry_mean              17\n",
       "fractal_dimension_mean     40\n",
       "radius_se                  16\n",
       "texture_se                 45\n",
       "perimeter_se               30\n",
       "area_se                    32\n",
       "smoothness_se              29\n",
       "compactness_se             46\n",
       "concavity_se               40\n",
       "concave points_se           6\n",
       "symmetry_se                28\n",
       "fractal_dimension_se       26\n",
       "radius_worst               52\n",
       "texture_worst              19\n",
       "perimeter_worst             6\n",
       "area_worst                 49\n",
       "smoothness_worst           46\n",
       "compactness_worst          23\n",
       "concavity_worst            27\n",
       "concave points_worst       37\n",
       "symmetry_worst             42\n",
       "fractal_dimension_worst    31\n",
       "dtype: int64"
      ]
     },
     "execution_count": 9,
     "metadata": {},
     "output_type": "execute_result"
    }
   ],
   "source": [
    "#Checking the number of null values in every feature\n",
    "data.isnull().sum()"
   ]
  },
  {
   "cell_type": "code",
   "execution_count": 10,
   "id": "54a14ab2",
   "metadata": {},
   "outputs": [
    {
     "name": "stderr",
     "output_type": "stream",
     "text": [
      "C:\\Users\\user\\anaconda3\\lib\\site-packages\\seaborn\\distributions.py:2619: FutureWarning: `distplot` is a deprecated function and will be removed in a future version. Please adapt your code to use either `displot` (a figure-level function with similar flexibility) or `histplot` (an axes-level function for histograms).\n",
      "  warnings.warn(msg, FutureWarning)\n"
     ]
    },
    {
     "data": {
      "text/plain": [
       "<AxesSubplot:xlabel='radius_mean', ylabel='Density'>"
      ]
     },
     "execution_count": 10,
     "metadata": {},
     "output_type": "execute_result"
    },
    {
     "data": {
      "image/png": "[encoded data removed]",
      "text/plain": [
       "<Figure size 432x288 with 1 Axes>"
      ]
     },
     "metadata": {
      "needs_background": "light"
     },
     "output_type": "display_data"
    }
   ],
   "source": [
    "sns.distplot(data['radius_mean'])#Checking the data distribution of the feature'radius mean'"
   ]
  },
  {
   "cell_type": "code",
   "execution_count": 11,
   "id": "78f018b9",
   "metadata": {},
   "outputs": [
    {
     "name": "stderr",
     "output_type": "stream",
     "text": [
      "C:\\Users\\user\\anaconda3\\lib\\site-packages\\seaborn\\distributions.py:2619: FutureWarning: `distplot` is a deprecated function and will be removed in a future version. Please adapt your code to use either `displot` (a figure-level function with similar flexibility) or `histplot` (an axes-level function for histograms).\n",
      "  warnings.warn(msg, FutureWarning)\n"
     ]
    },
    {
     "data": {
      "text/plain": [
       "<AxesSubplot:xlabel='radius_mean', ylabel='Density'>"
      ]
     },
     "execution_count": 11,
     "metadata": {},
     "output_type": "execute_result"
    },
    {
     "data": {
      "image/png": "[encoded data removed]",
      "text/plain": [
       "<Figure size 432x288 with 1 Axes>"
      ]
     },
     "metadata": {
      "needs_background": "light"
     },
     "output_type": "display_data"
    }
   ],
   "source": [
    "radius_impute = data['radius_mean'].fillna(data['radius_mean'].mean())#Checking the data distribution of the feature 'radius mean' after imputing it with null values\n",
    "sns.distplot(data['radius_mean'])"
   ]
  },
  {
   "cell_type": "markdown",
   "id": "97196c2d",
   "metadata": {},
   "source": [
    "Inference: The distribution after imputing and before imputing does not have much difference."
   ]
  },
  {
   "cell_type": "code",
   "execution_count": 12,
   "id": "833eb012",
   "metadata": {},
   "outputs": [
    {
     "name": "stderr",
     "output_type": "stream",
     "text": [
      "C:\\Users\\user\\AppData\\Local\\Temp/ipykernel_4436/1374837672.py:1: FutureWarning: Dropping of nuisance columns in DataFrame reductions (with 'numeric_only=None') is deprecated; in a future version this will raise TypeError.  Select only valid columns before calling the reduction.\n",
      "  means = data.mean()#Getting the mean of every feature\n"
     ]
    }
   ],
   "source": [
    "means = data.mean()#Getting the mean of every feature"
   ]
  },
  {
   "cell_type": "code",
   "execution_count": 13,
   "id": "288317ce",
   "metadata": {},
   "outputs": [],
   "source": [
    "data.fillna(means,inplace=True)#Filling the null values with mean of the particulat feature"
   ]
  },
  {
   "cell_type": "code",
   "execution_count": 14,
   "id": "958ad2c5",
   "metadata": {},
   "outputs": [
    {
     "data": {
      "text/plain": [
       "id                         0\n",
       "diagnosis                  0\n",
       "radius_mean                0\n",
       "texture_mean               0\n",
       "perimeter_mean             0\n",
       "area_mean                  0\n",
       "smoothness_mean            0\n",
       "compactness_mean           0\n",
       "concavity_mean             0\n",
       "concave points_mean        0\n",
       "symmetry_mean              0\n",
       "fractal_dimension_mean     0\n",
       "radius_se                  0\n",
       "texture_se                 0\n",
       "perimeter_se               0\n",
       "area_se                    0\n",
       "smoothness_se              0\n",
       "compactness_se             0\n",
       "concavity_se               0\n",
       "concave points_se          0\n",
       "symmetry_se                0\n",
       "fractal_dimension_se       0\n",
       "radius_worst               0\n",
       "texture_worst              0\n",
       "perimeter_worst            0\n",
       "area_worst                 0\n",
       "smoothness_worst           0\n",
       "compactness_worst          0\n",
       "concavity_worst            0\n",
       "concave points_worst       0\n",
       "symmetry_worst             0\n",
       "fractal_dimension_worst    0\n",
       "dtype: int64"
      ]
     },
     "execution_count": 14,
     "metadata": {},
     "output_type": "execute_result"
    }
   ],
   "source": [
    "data.isnull().sum()"
   ]
  },
  {
   "cell_type": "code",
   "execution_count": 15,
   "id": "780eade5",
   "metadata": {},
   "outputs": [
    {
     "data": {
      "text/html": [
       "<div>\n",
       "<style scoped>\n",
       "    .dataframe tbody tr th:only-of-type {\n",
       "        vertical-align: middle;\n",
       "    }\n",
       "\n",
       "    .dataframe tbody tr th {\n",
       "        vertical-align: top;\n",
       "    }\n",
       "\n",
       "    .dataframe thead th {\n",
       "        text-align: right;\n",
       "    }\n",
       "</style>\n",
       "<table border=\"1\" class=\"dataframe\">\n",
       "  <thead>\n",
       "    <tr style=\"text-align: right;\">\n",
       "      <th></th>\n",
       "      <th>id</th>\n",
       "      <th>diagnosis</th>\n",
       "      <th>radius_mean</th>\n",
       "      <th>texture_mean</th>\n",
       "      <th>perimeter_mean</th>\n",
       "      <th>area_mean</th>\n",
       "      <th>smoothness_mean</th>\n",
       "      <th>compactness_mean</th>\n",
       "      <th>concavity_mean</th>\n",
       "      <th>concave points_mean</th>\n",
       "      <th>...</th>\n",
       "      <th>radius_worst</th>\n",
       "      <th>texture_worst</th>\n",
       "      <th>perimeter_worst</th>\n",
       "      <th>area_worst</th>\n",
       "      <th>smoothness_worst</th>\n",
       "      <th>compactness_worst</th>\n",
       "      <th>concavity_worst</th>\n",
       "      <th>concave points_worst</th>\n",
       "      <th>symmetry_worst</th>\n",
       "      <th>fractal_dimension_worst</th>\n",
       "    </tr>\n",
       "  </thead>\n",
       "  <tbody>\n",
       "    <tr>\n",
       "      <th>0</th>\n",
       "      <td>842302</td>\n",
       "      <td>M</td>\n",
       "      <td>17.990000</td>\n",
       "      <td>19.259524</td>\n",
       "      <td>122.800000</td>\n",
       "      <td>1001.0</td>\n",
       "      <td>0.118400</td>\n",
       "      <td>0.2776</td>\n",
       "      <td>0.087063</td>\n",
       "      <td>0.147100</td>\n",
       "      <td>...</td>\n",
       "      <td>16.317518</td>\n",
       "      <td>17.330000</td>\n",
       "      <td>184.60</td>\n",
       "      <td>2019.000000</td>\n",
       "      <td>0.162200</td>\n",
       "      <td>0.665600</td>\n",
       "      <td>0.711900</td>\n",
       "      <td>0.265400</td>\n",
       "      <td>0.290327</td>\n",
       "      <td>0.118900</td>\n",
       "    </tr>\n",
       "    <tr>\n",
       "      <th>1</th>\n",
       "      <td>842517</td>\n",
       "      <td>M</td>\n",
       "      <td>20.570000</td>\n",
       "      <td>17.770000</td>\n",
       "      <td>92.084215</td>\n",
       "      <td>1326.0</td>\n",
       "      <td>0.096225</td>\n",
       "      <td>0.1002</td>\n",
       "      <td>0.086900</td>\n",
       "      <td>0.070170</td>\n",
       "      <td>...</td>\n",
       "      <td>24.990000</td>\n",
       "      <td>23.410000</td>\n",
       "      <td>158.80</td>\n",
       "      <td>1956.000000</td>\n",
       "      <td>0.123800</td>\n",
       "      <td>0.186600</td>\n",
       "      <td>0.241600</td>\n",
       "      <td>0.186000</td>\n",
       "      <td>0.275000</td>\n",
       "      <td>0.083921</td>\n",
       "    </tr>\n",
       "    <tr>\n",
       "      <th>2</th>\n",
       "      <td>84300903</td>\n",
       "      <td>M</td>\n",
       "      <td>19.690000</td>\n",
       "      <td>21.250000</td>\n",
       "      <td>130.000000</td>\n",
       "      <td>1203.0</td>\n",
       "      <td>0.109600</td>\n",
       "      <td>0.1599</td>\n",
       "      <td>0.197400</td>\n",
       "      <td>0.127900</td>\n",
       "      <td>...</td>\n",
       "      <td>23.570000</td>\n",
       "      <td>25.530000</td>\n",
       "      <td>152.50</td>\n",
       "      <td>893.560385</td>\n",
       "      <td>0.144400</td>\n",
       "      <td>0.424500</td>\n",
       "      <td>0.271253</td>\n",
       "      <td>0.113338</td>\n",
       "      <td>0.361300</td>\n",
       "      <td>0.087580</td>\n",
       "    </tr>\n",
       "    <tr>\n",
       "      <th>3</th>\n",
       "      <td>84348301</td>\n",
       "      <td>M</td>\n",
       "      <td>14.216845</td>\n",
       "      <td>20.380000</td>\n",
       "      <td>77.580000</td>\n",
       "      <td>386.1</td>\n",
       "      <td>0.142500</td>\n",
       "      <td>0.2839</td>\n",
       "      <td>0.241400</td>\n",
       "      <td>0.048771</td>\n",
       "      <td>...</td>\n",
       "      <td>14.910000</td>\n",
       "      <td>25.596982</td>\n",
       "      <td>98.87</td>\n",
       "      <td>567.700000</td>\n",
       "      <td>0.209800</td>\n",
       "      <td>0.252812</td>\n",
       "      <td>0.686900</td>\n",
       "      <td>0.257500</td>\n",
       "      <td>0.663800</td>\n",
       "      <td>0.173000</td>\n",
       "    </tr>\n",
       "    <tr>\n",
       "      <th>4</th>\n",
       "      <td>84358402</td>\n",
       "      <td>M</td>\n",
       "      <td>20.290000</td>\n",
       "      <td>14.340000</td>\n",
       "      <td>135.100000</td>\n",
       "      <td>1297.0</td>\n",
       "      <td>0.100300</td>\n",
       "      <td>0.1457</td>\n",
       "      <td>0.198000</td>\n",
       "      <td>0.104300</td>\n",
       "      <td>...</td>\n",
       "      <td>22.540000</td>\n",
       "      <td>16.670000</td>\n",
       "      <td>152.20</td>\n",
       "      <td>1575.000000</td>\n",
       "      <td>0.132735</td>\n",
       "      <td>0.205000</td>\n",
       "      <td>0.400000</td>\n",
       "      <td>0.162500</td>\n",
       "      <td>0.236400</td>\n",
       "      <td>0.076780</td>\n",
       "    </tr>\n",
       "  </tbody>\n",
       "</table>\n",
       "<p>5 rows × 32 columns</p>\n",
       "</div>"
      ],
      "text/plain": [
       "         id diagnosis  radius_mean  texture_mean  perimeter_mean  area_mean  \\\n",
       "0    842302         M    17.990000     19.259524      122.800000     1001.0   \n",
       "1    842517         M    20.570000     17.770000       92.084215     1326.0   \n",
       "2  84300903         M    19.690000     21.250000      130.000000     1203.0   \n",
       "3  84348301         M    14.216845     20.380000       77.580000      386.1   \n",
       "4  84358402         M    20.290000     14.340000      135.100000     1297.0   \n",
       "\n",
       "   smoothness_mean  compactness_mean  concavity_mean  concave points_mean  \\\n",
       "0         0.118400            0.2776        0.087063             0.147100   \n",
       "1         0.096225            0.1002        0.086900             0.070170   \n",
       "2         0.109600            0.1599        0.197400             0.127900   \n",
       "3         0.142500            0.2839        0.241400             0.048771   \n",
       "4         0.100300            0.1457        0.198000             0.104300   \n",
       "\n",
       "   ...  radius_worst  texture_worst  perimeter_worst   area_worst  \\\n",
       "0  ...     16.317518      17.330000           184.60  2019.000000   \n",
       "1  ...     24.990000      23.410000           158.80  1956.000000   \n",
       "2  ...     23.570000      25.530000           152.50   893.560385   \n",
       "3  ...     14.910000      25.596982            98.87   567.700000   \n",
       "4  ...     22.540000      16.670000           152.20  1575.000000   \n",
       "\n",
       "   smoothness_worst  compactness_worst  concavity_worst  concave points_worst  \\\n",
       "0          0.162200           0.665600         0.711900              0.265400   \n",
       "1          0.123800           0.186600         0.241600              0.186000   \n",
       "2          0.144400           0.424500         0.271253              0.113338   \n",
       "3          0.209800           0.252812         0.686900              0.257500   \n",
       "4          0.132735           0.205000         0.400000              0.162500   \n",
       "\n",
       "   symmetry_worst  fractal_dimension_worst  \n",
       "0        0.290327                 0.118900  \n",
       "1        0.275000                 0.083921  \n",
       "2        0.361300                 0.087580  \n",
       "3        0.663800                 0.173000  \n",
       "4        0.236400                 0.076780  \n",
       "\n",
       "[5 rows x 32 columns]"
      ]
     },
     "execution_count": 15,
     "metadata": {},
     "output_type": "execute_result"
    }
   ],
   "source": [
    "data.head()"
   ]
  },
  {
   "cell_type": "code",
   "execution_count": 16,
   "id": "3a05565b",
   "metadata": {},
   "outputs": [
    {
     "name": "stderr",
     "output_type": "stream",
     "text": [
      "C:\\Users\\user\\AppData\\Local\\Temp/ipykernel_4436/531903386.py:1: FutureWarning: Dropping of nuisance columns in DataFrame reductions (with 'numeric_only=None') is deprecated; in a future version this will raise TypeError.  Select only valid columns before calling the reduction.\n",
      "  data.mean()\n"
     ]
    },
    {
     "data": {
      "text/plain": [
       "id                         3.037183e+07\n",
       "radius_mean                1.421684e+01\n",
       "texture_mean               1.925952e+01\n",
       "perimeter_mean             9.208422e+01\n",
       "area_mean                  6.495790e+02\n",
       "smoothness_mean            9.622533e-02\n",
       "compactness_mean           1.049779e-01\n",
       "concavity_mean             8.706317e-02\n",
       "concave points_mean        4.877089e-02\n",
       "symmetry_mean              1.807165e-01\n",
       "fractal_dimension_mean     6.283775e-02\n",
       "radius_se                  4.036613e-01\n",
       "texture_se                 1.223568e+00\n",
       "perimeter_se               2.897406e+00\n",
       "area_se                    4.021844e+01\n",
       "smoothness_se              7.027543e-03\n",
       "compactness_se             2.541915e-02\n",
       "concavity_se               3.231834e-02\n",
       "concave points_se          1.178870e-02\n",
       "symmetry_se                2.044377e-02\n",
       "fractal_dimension_se       3.786815e-03\n",
       "radius_worst               1.631752e+01\n",
       "texture_worst              2.559698e+01\n",
       "perimeter_worst            1.070480e+02\n",
       "area_worst                 8.935604e+02\n",
       "smoothness_worst           1.327352e-01\n",
       "compactness_worst          2.528123e-01\n",
       "concavity_worst            2.712529e-01\n",
       "concave points_worst       1.133384e-01\n",
       "symmetry_worst             2.903269e-01\n",
       "fractal_dimension_worst    8.392141e-02\n",
       "dtype: float64"
      ]
     },
     "execution_count": 16,
     "metadata": {},
     "output_type": "execute_result"
    }
   ],
   "source": [
    "data.mean()"
   ]
  },
  {
   "cell_type": "code",
   "execution_count": 17,
   "id": "718d3a32",
   "metadata": {},
   "outputs": [
    {
     "name": "stderr",
     "output_type": "stream",
     "text": [
      "C:\\Users\\user\\AppData\\Local\\Temp/ipykernel_4436/2723740006.py:1: FutureWarning: Dropping of nuisance columns in DataFrame reductions (with 'numeric_only=None') is deprecated; in a future version this will raise TypeError.  Select only valid columns before calling the reduction.\n",
      "  data.std()\n"
     ]
    },
    {
     "data": {
      "text/plain": [
       "id                         1.250206e+08\n",
       "radius_mean                3.451628e+00\n",
       "texture_mean               4.197177e+00\n",
       "perimeter_mean             2.383521e+01\n",
       "area_mean                  3.394071e+02\n",
       "smoothness_mean            1.353772e-02\n",
       "compactness_mean           5.106074e-02\n",
       "concavity_mean             7.635521e-02\n",
       "concave points_mean        3.808150e-02\n",
       "symmetry_mean              2.706284e-02\n",
       "fractal_dimension_mean     6.944606e-03\n",
       "radius_se                  2.745103e-01\n",
       "texture_se                 5.380375e-01\n",
       "perimeter_se               1.987907e+00\n",
       "area_se                    4.486268e+01\n",
       "smoothness_se              2.918045e-03\n",
       "compactness_se             1.729527e-02\n",
       "concavity_se               2.953150e-02\n",
       "concave points_se          6.111217e-03\n",
       "symmetry_se                7.947877e-03\n",
       "fractal_dimension_se       2.600691e-03\n",
       "radius_worst               4.599484e+00\n",
       "texture_worst              6.075001e+00\n",
       "perimeter_worst            3.330387e+01\n",
       "area_worst                 5.571225e+02\n",
       "smoothness_worst           2.215396e-02\n",
       "compactness_worst          1.524979e-01\n",
       "concavity_worst            2.029071e-01\n",
       "concave points_worst       6.296480e-02\n",
       "symmetry_worst             5.926434e-02\n",
       "fractal_dimension_worst    1.753223e-02\n",
       "dtype: float64"
      ]
     },
     "execution_count": 17,
     "metadata": {},
     "output_type": "execute_result"
    }
   ],
   "source": [
    "data.std()"
   ]
  },
  {
   "cell_type": "code",
   "execution_count": 18,
   "id": "08511a5e",
   "metadata": {},
   "outputs": [
    {
     "data": {
      "text/plain": [
       "2.7724661486054747"
      ]
     },
     "execution_count": 18,
     "metadata": {},
     "output_type": "execute_result"
    }
   ],
   "source": [
    "from statsmodels import robust#To use robust mean absolute deviation\n",
    "robust.scale.mad(data.radius_mean)"
   ]
  },
  {
   "cell_type": "code",
   "execution_count": 19,
   "id": "107c6994",
   "metadata": {},
   "outputs": [
    {
     "data": {
      "text/plain": [
       "id                         7.943911e+06\n",
       "radius_mean                3.860000e+00\n",
       "texture_mean               5.260000e+00\n",
       "perimeter_mean             2.806000e+01\n",
       "area_mean                  3.211000e+02\n",
       "smoothness_mean            1.723000e-02\n",
       "compactness_mean           6.108000e-02\n",
       "concavity_mean             9.010000e-02\n",
       "concave points_mean        4.787000e-02\n",
       "symmetry_mean              3.300000e-02\n",
       "fractal_dimension_mean     7.640000e-03\n",
       "radius_se                  2.343000e-01\n",
       "texture_se                 6.009000e-01\n",
       "perimeter_se               1.601000e+00\n",
       "area_se                    2.499000e+01\n",
       "smoothness_se              2.756000e-03\n",
       "compactness_se             1.716000e-02\n",
       "concavity_se               2.409000e-02\n",
       "concave points_se          6.989000e-03\n",
       "symmetry_se                7.600000e-03\n",
       "fractal_dimension_se       2.145000e-03\n",
       "radius_worst               4.960000e+00\n",
       "texture_worst              8.080000e+00\n",
       "perimeter_worst            4.079000e+01\n",
       "area_worst                 5.013000e+02\n",
       "smoothness_worst           2.640000e-02\n",
       "compactness_worst          1.765000e-01\n",
       "concavity_worst            2.573000e-01\n",
       "concave points_worst       9.082000e-02\n",
       "symmetry_worst             6.070000e-02\n",
       "fractal_dimension_worst    1.960000e-02\n",
       "dtype: float64"
      ]
     },
     "execution_count": 19,
     "metadata": {},
     "output_type": "execute_result"
    }
   ],
   "source": [
    "#The interquartile range of the data features\n",
    "data.quantile(0.75)-data.quantile(0.25)"
   ]
  },
  {
   "cell_type": "markdown",
   "id": "aef4b584",
   "metadata": {},
   "source": [
    "##### Data Distributions"
   ]
  },
  {
   "cell_type": "markdown",
   "id": "295a72cf",
   "metadata": {},
   "source": [
    "#### Box Plot"
   ]
  },
  {
   "cell_type": "code",
   "execution_count": 20,
   "id": "a44e402d",
   "metadata": {},
   "outputs": [
    {
     "data": {
      "text/html": [
       "<div>\n",
       "<style scoped>\n",
       "    .dataframe tbody tr th:only-of-type {\n",
       "        vertical-align: middle;\n",
       "    }\n",
       "\n",
       "    .dataframe tbody tr th {\n",
       "        vertical-align: top;\n",
       "    }\n",
       "\n",
       "    .dataframe thead th {\n",
       "        text-align: right;\n",
       "    }\n",
       "</style>\n",
       "<table border=\"1\" class=\"dataframe\">\n",
       "  <thead>\n",
       "    <tr style=\"text-align: right;\">\n",
       "      <th></th>\n",
       "      <th>id</th>\n",
       "      <th>radius_mean</th>\n",
       "      <th>texture_mean</th>\n",
       "      <th>perimeter_mean</th>\n",
       "      <th>area_mean</th>\n",
       "      <th>smoothness_mean</th>\n",
       "      <th>compactness_mean</th>\n",
       "      <th>concavity_mean</th>\n",
       "      <th>concave points_mean</th>\n",
       "      <th>symmetry_mean</th>\n",
       "      <th>...</th>\n",
       "      <th>radius_worst</th>\n",
       "      <th>texture_worst</th>\n",
       "      <th>perimeter_worst</th>\n",
       "      <th>area_worst</th>\n",
       "      <th>smoothness_worst</th>\n",
       "      <th>compactness_worst</th>\n",
       "      <th>concavity_worst</th>\n",
       "      <th>concave points_worst</th>\n",
       "      <th>symmetry_worst</th>\n",
       "      <th>fractal_dimension_worst</th>\n",
       "    </tr>\n",
       "  </thead>\n",
       "  <tbody>\n",
       "    <tr>\n",
       "      <th>0.05</th>\n",
       "      <td>90267.0</td>\n",
       "      <td>9.6674</td>\n",
       "      <td>13.128</td>\n",
       "      <td>61.132</td>\n",
       "      <td>275.78</td>\n",
       "      <td>0.075534</td>\n",
       "      <td>0.041476</td>\n",
       "      <td>0.004983</td>\n",
       "      <td>0.005706</td>\n",
       "      <td>0.14150</td>\n",
       "      <td>...</td>\n",
       "      <td>10.658</td>\n",
       "      <td>16.574</td>\n",
       "      <td>67.856</td>\n",
       "      <td>338.70</td>\n",
       "      <td>0.097442</td>\n",
       "      <td>0.071764</td>\n",
       "      <td>0.019824</td>\n",
       "      <td>0.025640</td>\n",
       "      <td>0.21582</td>\n",
       "      <td>0.062726</td>\n",
       "    </tr>\n",
       "    <tr>\n",
       "      <th>0.10</th>\n",
       "      <td>853155.4</td>\n",
       "      <td>10.4800</td>\n",
       "      <td>14.150</td>\n",
       "      <td>66.700</td>\n",
       "      <td>323.68</td>\n",
       "      <td>0.080086</td>\n",
       "      <td>0.050500</td>\n",
       "      <td>0.013954</td>\n",
       "      <td>0.011362</td>\n",
       "      <td>0.14958</td>\n",
       "      <td>...</td>\n",
       "      <td>11.460</td>\n",
       "      <td>17.800</td>\n",
       "      <td>72.178</td>\n",
       "      <td>394.04</td>\n",
       "      <td>0.103780</td>\n",
       "      <td>0.095398</td>\n",
       "      <td>0.048170</td>\n",
       "      <td>0.039886</td>\n",
       "      <td>0.22816</td>\n",
       "      <td>0.065914</td>\n",
       "    </tr>\n",
       "    <tr>\n",
       "      <th>0.25</th>\n",
       "      <td>869218.0</td>\n",
       "      <td>11.8500</td>\n",
       "      <td>16.330</td>\n",
       "      <td>75.540</td>\n",
       "      <td>423.60</td>\n",
       "      <td>0.086770</td>\n",
       "      <td>0.067220</td>\n",
       "      <td>0.030000</td>\n",
       "      <td>0.020740</td>\n",
       "      <td>0.16200</td>\n",
       "      <td>...</td>\n",
       "      <td>13.140</td>\n",
       "      <td>21.180</td>\n",
       "      <td>84.110</td>\n",
       "      <td>523.70</td>\n",
       "      <td>0.118500</td>\n",
       "      <td>0.148600</td>\n",
       "      <td>0.118600</td>\n",
       "      <td>0.065280</td>\n",
       "      <td>0.25400</td>\n",
       "      <td>0.072200</td>\n",
       "    </tr>\n",
       "    <tr>\n",
       "      <th>0.75</th>\n",
       "      <td>8813129.0</td>\n",
       "      <td>15.7100</td>\n",
       "      <td>21.590</td>\n",
       "      <td>103.600</td>\n",
       "      <td>744.70</td>\n",
       "      <td>0.104000</td>\n",
       "      <td>0.128300</td>\n",
       "      <td>0.120100</td>\n",
       "      <td>0.068610</td>\n",
       "      <td>0.19500</td>\n",
       "      <td>...</td>\n",
       "      <td>18.100</td>\n",
       "      <td>29.260</td>\n",
       "      <td>124.900</td>\n",
       "      <td>1025.00</td>\n",
       "      <td>0.144900</td>\n",
       "      <td>0.325100</td>\n",
       "      <td>0.375900</td>\n",
       "      <td>0.156100</td>\n",
       "      <td>0.31470</td>\n",
       "      <td>0.091800</td>\n",
       "    </tr>\n",
       "  </tbody>\n",
       "</table>\n",
       "<p>4 rows × 31 columns</p>\n",
       "</div>"
      ],
      "text/plain": [
       "             id  radius_mean  texture_mean  perimeter_mean  area_mean  \\\n",
       "0.05    90267.0       9.6674        13.128          61.132     275.78   \n",
       "0.10   853155.4      10.4800        14.150          66.700     323.68   \n",
       "0.25   869218.0      11.8500        16.330          75.540     423.60   \n",
       "0.75  8813129.0      15.7100        21.590         103.600     744.70   \n",
       "\n",
       "      smoothness_mean  compactness_mean  concavity_mean  concave points_mean  \\\n",
       "0.05         0.075534          0.041476        0.004983             0.005706   \n",
       "0.10         0.080086          0.050500        0.013954             0.011362   \n",
       "0.25         0.086770          0.067220        0.030000             0.020740   \n",
       "0.75         0.104000          0.128300        0.120100             0.068610   \n",
       "\n",
       "      symmetry_mean  ...  radius_worst  texture_worst  perimeter_worst  \\\n",
       "0.05        0.14150  ...        10.658         16.574           67.856   \n",
       "0.10        0.14958  ...        11.460         17.800           72.178   \n",
       "0.25        0.16200  ...        13.140         21.180           84.110   \n",
       "0.75        0.19500  ...        18.100         29.260          124.900   \n",
       "\n",
       "      area_worst  smoothness_worst  compactness_worst  concavity_worst  \\\n",
       "0.05      338.70          0.097442           0.071764         0.019824   \n",
       "0.10      394.04          0.103780           0.095398         0.048170   \n",
       "0.25      523.70          0.118500           0.148600         0.118600   \n",
       "0.75     1025.00          0.144900           0.325100         0.375900   \n",
       "\n",
       "      concave points_worst  symmetry_worst  fractal_dimension_worst  \n",
       "0.05              0.025640         0.21582                 0.062726  \n",
       "0.10              0.039886         0.22816                 0.065914  \n",
       "0.25              0.065280         0.25400                 0.072200  \n",
       "0.75              0.156100         0.31470                 0.091800  \n",
       "\n",
       "[4 rows x 31 columns]"
      ]
     },
     "execution_count": 20,
     "metadata": {},
     "output_type": "execute_result"
    }
   ],
   "source": [
    "data.quantile([0.05,0.1,0.25,0.75])#finding the quantiles of the features"
   ]
  },
  {
   "cell_type": "markdown",
   "id": "cf996691",
   "metadata": {},
   "source": [
    "5%, 10%, 25% and 75% of the features values"
   ]
  },
  {
   "cell_type": "code",
   "execution_count": 21,
   "id": "470e1aea",
   "metadata": {},
   "outputs": [
    {
     "data": {
      "text/plain": [
       "Text(0, 0.5, 'Radius Mean ')"
      ]
     },
     "execution_count": 21,
     "metadata": {},
     "output_type": "execute_result"
    },
    {
     "data": {
      "image/png": "[encoded data removed]",
      "text/plain": [
       "<Figure size 432x288 with 1 Axes>"
      ]
     },
     "metadata": {
      "needs_background": "light"
     },
     "output_type": "display_data"
    }
   ],
   "source": [
    "ax =  data['radius_mean'].plot.box()#Plotting the box plot to see the outliers of data\n",
    "ax.set_ylabel(\"Radius Mean \")"
   ]
  },
  {
   "cell_type": "markdown",
   "id": "399d12d7",
   "metadata": {},
   "source": [
    "Inference: There are number of outliers in the feature 'Radius Mean'"
   ]
  },
  {
   "cell_type": "code",
   "execution_count": 22,
   "id": "7934673c",
   "metadata": {},
   "outputs": [
    {
     "data": {
      "text/plain": [
       "3.860000000000001"
      ]
     },
     "execution_count": 22,
     "metadata": {},
     "output_type": "execute_result"
    }
   ],
   "source": [
    "Radius_mean_IQR = data['radius_mean'].quantile(0.75) - data['radius_mean'].quantile(0.25)#Finding the InterQaurtile Range\n",
    "Radius_mean_IQR"
   ]
  },
  {
   "cell_type": "code",
   "execution_count": 23,
   "id": "05725d15",
   "metadata": {},
   "outputs": [],
   "source": [
    "q1, q3 = np.percentile(data['radius_mean'], [25, 75])#Finding the first quartile and 3 rd quartile"
   ]
  },
  {
   "cell_type": "code",
   "execution_count": 24,
   "id": "27370df1",
   "metadata": {},
   "outputs": [],
   "source": [
    "outlier_cutoff = 1.5 * Radius_mean_IQR#The cut off is 1.5 times the IQR\n",
    "lower_cutoff = q1 - outlier_cutoff#Lower Cut off is the difference between the Q1 and outlier cut off\n",
    "upper_cutoff = q3 + outlier_cutoff#Upper Cut off is the su of  the Q3 and outlier cut off"
   ]
  },
  {
   "cell_type": "markdown",
   "id": "3ec39a5e",
   "metadata": {},
   "source": [
    "Inference: Any values below the lower cut off or above the upper cut off will be considered as outlier"
   ]
  },
  {
   "cell_type": "code",
   "execution_count": 25,
   "id": "cc75a06a",
   "metadata": {},
   "outputs": [
    {
     "name": "stdout",
     "output_type": "stream",
     "text": [
      "18\n"
     ]
    },
    {
     "data": {
      "text/plain": [
       "0.03163444639718805"
      ]
     },
     "execution_count": 25,
     "metadata": {},
     "output_type": "execute_result"
    }
   ],
   "source": [
    "Radius_mean_outliers = len([x for x in data['radius_mean'] if x < lower_cutoff or x > upper_cutoff])#Findging the outliers\n",
    "print(Radius_mean_outliers)\n",
    "Radius_mean_outliers/len(data['radius_mean'])\n"
   ]
  },
  {
   "cell_type": "markdown",
   "id": "12179518",
   "metadata": {},
   "source": [
    "Inference : the number of outliers in radius_mean is 18 and that is 3.16% of the total values"
   ]
  },
  {
   "cell_type": "markdown",
   "id": "a971ab56",
   "metadata": {},
   "source": [
    "#### Note: *We are not removing the outliers as of now, because these maybe genuine outliers and removing them may result in loss of important information.*"
   ]
  },
  {
   "cell_type": "code",
   "execution_count": 26,
   "id": "f5071c0c",
   "metadata": {},
   "outputs": [
    {
     "data": {
      "text/plain": [
       "id                         7.943911e+06\n",
       "radius_mean                3.860000e+00\n",
       "texture_mean               5.260000e+00\n",
       "perimeter_mean             2.806000e+01\n",
       "area_mean                  3.211000e+02\n",
       "smoothness_mean            1.723000e-02\n",
       "compactness_mean           6.108000e-02\n",
       "concavity_mean             9.010000e-02\n",
       "concave points_mean        4.787000e-02\n",
       "symmetry_mean              3.300000e-02\n",
       "fractal_dimension_mean     7.640000e-03\n",
       "radius_se                  2.343000e-01\n",
       "texture_se                 6.009000e-01\n",
       "perimeter_se               1.601000e+00\n",
       "area_se                    2.499000e+01\n",
       "smoothness_se              2.756000e-03\n",
       "compactness_se             1.716000e-02\n",
       "concavity_se               2.409000e-02\n",
       "concave points_se          6.989000e-03\n",
       "symmetry_se                7.600000e-03\n",
       "fractal_dimension_se       2.145000e-03\n",
       "radius_worst               4.960000e+00\n",
       "texture_worst              8.080000e+00\n",
       "perimeter_worst            4.079000e+01\n",
       "area_worst                 5.013000e+02\n",
       "smoothness_worst           2.640000e-02\n",
       "compactness_worst          1.765000e-01\n",
       "concavity_worst            2.573000e-01\n",
       "concave points_worst       9.082000e-02\n",
       "symmetry_worst             6.070000e-02\n",
       "fractal_dimension_worst    1.960000e-02\n",
       "dtype: float64"
      ]
     },
     "execution_count": 26,
     "metadata": {},
     "output_type": "execute_result"
    }
   ],
   "source": [
    "#Finding IQR of the every feature\n",
    "IQR = data.quantile(0.75) - data.quantile(0.25)\n",
    "IQR"
   ]
  },
  {
   "cell_type": "code",
   "execution_count": 27,
   "id": "c8618fc1",
   "metadata": {},
   "outputs": [
    {
     "data": {
      "text/plain": [
       "(0.055502499999999996, 15.11)"
      ]
     },
     "execution_count": 27,
     "metadata": {},
     "output_type": "execute_result"
    }
   ],
   "source": [
    "q1, q3 = np.percentile(data.drop(['id','diagnosis'],axis=1), [25, 75]) #Finding the first quartile and 3 rd quartile\n",
    "q1,q3"
   ]
  },
  {
   "cell_type": "code",
   "execution_count": 28,
   "id": "1b181e9c",
   "metadata": {},
   "outputs": [],
   "source": [
    "outlier_cutoff = 1.5 * Radius_mean_IQR#The cut off is 1.5 times the IQR\n",
    "lower_cutoff = q1 - outlier_cutoff\n",
    "upper_cutoff = q3 + outlier_cutoff\n"
   ]
  },
  {
   "cell_type": "code",
   "execution_count": 29,
   "id": "8fcfabe8",
   "metadata": {},
   "outputs": [],
   "source": [
    "data_outliers = data.drop(['id','diagnosis'],axis=1)#We are dropping the ID column and the diagnosis column so we can find the outliers of all other features at once\n",
    "\n"
   ]
  },
  {
   "cell_type": "code",
   "execution_count": 30,
   "id": "db4d6c17",
   "metadata": {},
   "outputs": [],
   "source": [
    "#Finding the outliers in every feature of the data frame\n",
    "q1 = data_outliers.quantile(0.25)\n",
    "q3 = data_outliers.quantile(0.75)\n",
    "\n",
    "iqr = q3 - q1\n",
    "lower_cutoff = q1 - 1.5*iqr\n",
    "upper_cutoff = q3 + 1.5*iqr\n",
    "outliers = data_outliers.apply(lambda x: x[(x < lower_cutoff[x.name]) | (x > upper_cutoff[x.name])], axis=0)"
   ]
  },
  {
   "cell_type": "code",
   "execution_count": 31,
   "id": "00885dc3",
   "metadata": {},
   "outputs": [
    {
     "data": {
      "text/plain": [
       "radius_mean                18\n",
       "texture_mean                8\n",
       "perimeter_mean             15\n",
       "area_mean                  44\n",
       "smoothness_mean             9\n",
       "compactness_mean           22\n",
       "concavity_mean             20\n",
       "concave points_mean        19\n",
       "symmetry_mean              16\n",
       "fractal_dimension_mean     23\n",
       "radius_se                  44\n",
       "texture_se                 20\n",
       "perimeter_se               42\n",
       "area_se                    65\n",
       "smoothness_se              30\n",
       "compactness_se             35\n",
       "concavity_se               31\n",
       "concave points_se          19\n",
       "symmetry_se                30\n",
       "fractal_dimension_se       31\n",
       "radius_worst               28\n",
       "texture_worst               8\n",
       "perimeter_worst            16\n",
       "area_worst                 45\n",
       "smoothness_worst           15\n",
       "compactness_worst          22\n",
       "concavity_worst            13\n",
       "concave points_worst        0\n",
       "symmetry_worst             28\n",
       "fractal_dimension_worst    22\n",
       "dtype: int64"
      ]
     },
     "execution_count": 31,
     "metadata": {},
     "output_type": "execute_result"
    }
   ],
   "source": [
    "(len(outliers)-outliers.isnull().sum())#Finding the number of outliers in every feature"
   ]
  },
  {
   "cell_type": "code",
   "execution_count": 32,
   "id": "532c006f",
   "metadata": {},
   "outputs": [
    {
     "data": {
      "text/plain": [
       "Text(0, 0.5, 'Radius Mean')"
      ]
     },
     "execution_count": 32,
     "metadata": {},
     "output_type": "execute_result"
    },
    {
     "data": {
      "image/png": "[encoded data removed]",
      "text/plain": [
       "<Figure size 432x288 with 1 Axes>"
      ]
     },
     "metadata": {
      "needs_background": "light"
     },
     "output_type": "display_data"
    }
   ],
   "source": [
    "#Histogram of radius mean\n",
    "ax = (data['radius_mean']).plot.hist()\n",
    "ax.set_ylabel(\"Radius Mean\")"
   ]
  },
  {
   "cell_type": "code",
   "execution_count": 33,
   "id": "5f731796",
   "metadata": {},
   "outputs": [
    {
     "data": {
      "text/plain": [
       "Text(0, 0.5, 'texture_mean ')"
      ]
     },
     "execution_count": 33,
     "metadata": {},
     "output_type": "execute_result"
    },
    {
     "data": {
      "image/png": "[encoded data removed]",
      "text/plain": [
       "<Figure size 432x288 with 1 Axes>"
      ]
     },
     "metadata": {
      "needs_background": "light"
     },
     "output_type": "display_data"
    }
   ],
   "source": [
    "#Histogram of texture mean\n",
    "ax = (data['texture_mean']).plot.hist()\n",
    "ax.set_ylabel(\"texture_mean \")"
   ]
  },
  {
   "cell_type": "code",
   "execution_count": 34,
   "id": "439c5928",
   "metadata": {},
   "outputs": [
    {
     "data": {
      "text/plain": [
       "Text(0, 0.5, 'perimeter_mean')"
      ]
     },
     "execution_count": 34,
     "metadata": {},
     "output_type": "execute_result"
    },
    {
     "data": {
      "image/png": "[encoded data removed]",
      "text/plain": [
       "<Figure size 432x288 with 1 Axes>"
      ]
     },
     "metadata": {
      "needs_background": "light"
     },
     "output_type": "display_data"
    }
   ],
   "source": [
    "#Histogram of perimeter mean\n",
    "ax = (data['perimeter_mean']).plot.hist()\n",
    "ax.set_ylabel(\"perimeter_mean\")"
   ]
  },
  {
   "cell_type": "code",
   "execution_count": 35,
   "id": "7a36fa07",
   "metadata": {},
   "outputs": [
    {
     "data": {
      "text/plain": [
       "Text(0, 0.5, 'area_mean')"
      ]
     },
     "execution_count": 35,
     "metadata": {},
     "output_type": "execute_result"
    },
    {
     "data": {
      "image/png": "[encoded data removed]",
      "text/plain": [
       "<Figure size 432x288 with 1 Axes>"
      ]
     },
     "metadata": {
      "needs_background": "light"
     },
     "output_type": "display_data"
    }
   ],
   "source": [
    "#Histogram of area mean\n",
    "ax = (data['area_mean']).plot.hist()\n",
    "ax.set_ylabel(\"area_mean\")"
   ]
  },
  {
   "cell_type": "code",
   "execution_count": 36,
   "id": "60c87a28",
   "metadata": {},
   "outputs": [
    {
     "name": "stderr",
     "output_type": "stream",
     "text": [
      "C:\\Users\\user\\anaconda3\\lib\\site-packages\\numpy\\lib\\histograms.py:905: RuntimeWarning: invalid value encountered in true_divide\n",
      "  return n/db/n.sum(), bin_edges\n"
     ]
    },
    {
     "data": {
      "image/png": "[encoded data removed]",
      "text/plain": [
       "<Figure size 432x288 with 1 Axes>"
      ]
     },
     "metadata": {
      "needs_background": "light"
     },
     "output_type": "display_data"
    }
   ],
   "source": [
    "#Density Plot of radius mean\n",
    "ax = (data['radius_mean']).plot.hist(density=True,bins=range(1,7))\n",
    "(data['radius_mean']).plot.density(ax=ax)\n",
    "plt.show()"
   ]
  },
  {
   "cell_type": "code",
   "execution_count": 37,
   "id": "4ede9428",
   "metadata": {},
   "outputs": [
    {
     "name": "stderr",
     "output_type": "stream",
     "text": [
      "C:\\Users\\user\\anaconda3\\lib\\site-packages\\numpy\\lib\\histograms.py:905: RuntimeWarning: invalid value encountered in true_divide\n",
      "  return n/db/n.sum(), bin_edges\n"
     ]
    },
    {
     "data": {
      "image/png": "[encoded data removed]",
      "text/plain": [
       "<Figure size 432x288 with 1 Axes>"
      ]
     },
     "metadata": {
      "needs_background": "light"
     },
     "output_type": "display_data"
    }
   ],
   "source": [
    "#Density Plot fo texture mean\n",
    "ax = (data['texture_mean']).plot.hist(density=True,bins=range(1,7))\n",
    "(data['texture_mean']).plot.density(ax=ax)\n",
    "plt.show()"
   ]
  },
  {
   "cell_type": "code",
   "execution_count": 38,
   "id": "3f99cd7f",
   "metadata": {},
   "outputs": [
    {
     "data": {
      "text/plain": [
       "B    357\n",
       "M    212\n",
       "Name: diagnosis, dtype: int64"
      ]
     },
     "execution_count": 38,
     "metadata": {},
     "output_type": "execute_result"
    }
   ],
   "source": [
    "ans = data.diagnosis.value_counts()\n",
    "ans"
   ]
  },
  {
   "cell_type": "code",
   "execution_count": 39,
   "id": "46196cd1",
   "metadata": {},
   "outputs": [
    {
     "name": "stderr",
     "output_type": "stream",
     "text": [
      "C:\\Users\\user\\anaconda3\\lib\\site-packages\\seaborn\\_decorators.py:36: FutureWarning: Pass the following variables as keyword args: x, y. From version 0.12, the only valid positional argument will be `data`, and passing other arguments without an explicit keyword will result in an error or misinterpretation.\n",
      "  warnings.warn(\n",
      "No handles with labels found to put in legend.\n"
     ]
    },
    {
     "data": {
      "image/png": "[encoded data removed]",
      "text/plain": [
       "<Figure size 432x288 with 1 Axes>"
      ]
     },
     "metadata": {
      "needs_background": "light"
     },
     "output_type": "display_data"
    }
   ],
   "source": [
    "#Bar plot of the feature diagnosis which is the target variable\n",
    "sns.barplot(ans.index,ans.values)\n",
    "plt.legend()\n",
    "plt.show()"
   ]
  },
  {
   "cell_type": "code",
   "execution_count": 40,
   "id": "d86412a6",
   "metadata": {},
   "outputs": [],
   "source": [
    "#Encoding the target variable to a numerical\n",
    "from sklearn.preprocessing import LabelEncoder\n",
    "le = LabelEncoder()\n",
    "data['diagnosis'] = le.fit_transform(data['diagnosis'])"
   ]
  },
  {
   "cell_type": "code",
   "execution_count": 41,
   "id": "2d0ba7e6",
   "metadata": {},
   "outputs": [],
   "source": [
    "correlation = data.corr()#Findign the correlation of every feature"
   ]
  },
  {
   "cell_type": "code",
   "execution_count": 42,
   "id": "85ff9dec",
   "metadata": {},
   "outputs": [],
   "source": [
    "target = abs(correlation['diagnosis'])#Finding the correlation of every feature with the feature 'diagnosis'"
   ]
  },
  {
   "cell_type": "code",
   "execution_count": 43,
   "id": "f75ccbd4",
   "metadata": {},
   "outputs": [
    {
     "data": {
      "text/plain": [
       "16"
      ]
     },
     "execution_count": 43,
     "metadata": {},
     "output_type": "execute_result"
    }
   ],
   "source": [
    "relevant_features = target[target>0.5].index#Finding the relevant features that is the features which have a  absolute correlation greater than 0.5\n",
    "len(relevant_features)"
   ]
  },
  {
   "cell_type": "markdown",
   "id": "9dc48979",
   "metadata": {},
   "source": [
    "Inference: There are 16 features that have an absolute correlation greater than 0.5"
   ]
  },
  {
   "cell_type": "code",
   "execution_count": 44,
   "id": "1b3a9268",
   "metadata": {},
   "outputs": [
    {
     "data": {
      "text/html": [
       "<div>\n",
       "<style scoped>\n",
       "    .dataframe tbody tr th:only-of-type {\n",
       "        vertical-align: middle;\n",
       "    }\n",
       "\n",
       "    .dataframe tbody tr th {\n",
       "        vertical-align: top;\n",
       "    }\n",
       "\n",
       "    .dataframe thead th {\n",
       "        text-align: right;\n",
       "    }\n",
       "</style>\n",
       "<table border=\"1\" class=\"dataframe\">\n",
       "  <thead>\n",
       "    <tr style=\"text-align: right;\">\n",
       "      <th></th>\n",
       "      <th>diagnosis</th>\n",
       "      <th>radius_mean</th>\n",
       "      <th>perimeter_mean</th>\n",
       "      <th>area_mean</th>\n",
       "      <th>compactness_mean</th>\n",
       "      <th>concavity_mean</th>\n",
       "      <th>concave points_mean</th>\n",
       "      <th>radius_se</th>\n",
       "      <th>perimeter_se</th>\n",
       "      <th>area_se</th>\n",
       "      <th>radius_worst</th>\n",
       "      <th>perimeter_worst</th>\n",
       "      <th>area_worst</th>\n",
       "      <th>compactness_worst</th>\n",
       "      <th>concavity_worst</th>\n",
       "      <th>concave points_worst</th>\n",
       "    </tr>\n",
       "  </thead>\n",
       "  <tbody>\n",
       "    <tr>\n",
       "      <th>0</th>\n",
       "      <td>1</td>\n",
       "      <td>17.990000</td>\n",
       "      <td>122.800000</td>\n",
       "      <td>1001.0</td>\n",
       "      <td>0.27760</td>\n",
       "      <td>0.087063</td>\n",
       "      <td>0.147100</td>\n",
       "      <td>0.403661</td>\n",
       "      <td>8.589000</td>\n",
       "      <td>153.40</td>\n",
       "      <td>16.317518</td>\n",
       "      <td>184.60</td>\n",
       "      <td>2019.000000</td>\n",
       "      <td>0.665600</td>\n",
       "      <td>0.711900</td>\n",
       "      <td>0.265400</td>\n",
       "    </tr>\n",
       "    <tr>\n",
       "      <th>1</th>\n",
       "      <td>1</td>\n",
       "      <td>20.570000</td>\n",
       "      <td>92.084215</td>\n",
       "      <td>1326.0</td>\n",
       "      <td>0.10020</td>\n",
       "      <td>0.086900</td>\n",
       "      <td>0.070170</td>\n",
       "      <td>0.543500</td>\n",
       "      <td>2.897406</td>\n",
       "      <td>74.08</td>\n",
       "      <td>24.990000</td>\n",
       "      <td>158.80</td>\n",
       "      <td>1956.000000</td>\n",
       "      <td>0.186600</td>\n",
       "      <td>0.241600</td>\n",
       "      <td>0.186000</td>\n",
       "    </tr>\n",
       "    <tr>\n",
       "      <th>2</th>\n",
       "      <td>1</td>\n",
       "      <td>19.690000</td>\n",
       "      <td>130.000000</td>\n",
       "      <td>1203.0</td>\n",
       "      <td>0.15990</td>\n",
       "      <td>0.197400</td>\n",
       "      <td>0.127900</td>\n",
       "      <td>0.745600</td>\n",
       "      <td>4.585000</td>\n",
       "      <td>94.03</td>\n",
       "      <td>23.570000</td>\n",
       "      <td>152.50</td>\n",
       "      <td>893.560385</td>\n",
       "      <td>0.424500</td>\n",
       "      <td>0.271253</td>\n",
       "      <td>0.113338</td>\n",
       "    </tr>\n",
       "    <tr>\n",
       "      <th>3</th>\n",
       "      <td>1</td>\n",
       "      <td>14.216845</td>\n",
       "      <td>77.580000</td>\n",
       "      <td>386.1</td>\n",
       "      <td>0.28390</td>\n",
       "      <td>0.241400</td>\n",
       "      <td>0.048771</td>\n",
       "      <td>0.495600</td>\n",
       "      <td>3.445000</td>\n",
       "      <td>27.23</td>\n",
       "      <td>14.910000</td>\n",
       "      <td>98.87</td>\n",
       "      <td>567.700000</td>\n",
       "      <td>0.252812</td>\n",
       "      <td>0.686900</td>\n",
       "      <td>0.257500</td>\n",
       "    </tr>\n",
       "    <tr>\n",
       "      <th>4</th>\n",
       "      <td>1</td>\n",
       "      <td>20.290000</td>\n",
       "      <td>135.100000</td>\n",
       "      <td>1297.0</td>\n",
       "      <td>0.14570</td>\n",
       "      <td>0.198000</td>\n",
       "      <td>0.104300</td>\n",
       "      <td>0.757200</td>\n",
       "      <td>5.438000</td>\n",
       "      <td>94.44</td>\n",
       "      <td>22.540000</td>\n",
       "      <td>152.20</td>\n",
       "      <td>1575.000000</td>\n",
       "      <td>0.205000</td>\n",
       "      <td>0.400000</td>\n",
       "      <td>0.162500</td>\n",
       "    </tr>\n",
       "    <tr>\n",
       "      <th>...</th>\n",
       "      <td>...</td>\n",
       "      <td>...</td>\n",
       "      <td>...</td>\n",
       "      <td>...</td>\n",
       "      <td>...</td>\n",
       "      <td>...</td>\n",
       "      <td>...</td>\n",
       "      <td>...</td>\n",
       "      <td>...</td>\n",
       "      <td>...</td>\n",
       "      <td>...</td>\n",
       "      <td>...</td>\n",
       "      <td>...</td>\n",
       "      <td>...</td>\n",
       "      <td>...</td>\n",
       "      <td>...</td>\n",
       "    </tr>\n",
       "    <tr>\n",
       "      <th>564</th>\n",
       "      <td>1</td>\n",
       "      <td>21.560000</td>\n",
       "      <td>92.084215</td>\n",
       "      <td>1479.0</td>\n",
       "      <td>0.11590</td>\n",
       "      <td>0.243900</td>\n",
       "      <td>0.138900</td>\n",
       "      <td>1.176000</td>\n",
       "      <td>7.673000</td>\n",
       "      <td>158.70</td>\n",
       "      <td>25.450000</td>\n",
       "      <td>166.10</td>\n",
       "      <td>893.560385</td>\n",
       "      <td>0.211300</td>\n",
       "      <td>0.410700</td>\n",
       "      <td>0.221600</td>\n",
       "    </tr>\n",
       "    <tr>\n",
       "      <th>565</th>\n",
       "      <td>1</td>\n",
       "      <td>20.130000</td>\n",
       "      <td>131.200000</td>\n",
       "      <td>1261.0</td>\n",
       "      <td>0.10340</td>\n",
       "      <td>0.144000</td>\n",
       "      <td>0.097910</td>\n",
       "      <td>0.765500</td>\n",
       "      <td>5.203000</td>\n",
       "      <td>99.04</td>\n",
       "      <td>16.317518</td>\n",
       "      <td>155.00</td>\n",
       "      <td>1731.000000</td>\n",
       "      <td>0.192200</td>\n",
       "      <td>0.321500</td>\n",
       "      <td>0.162800</td>\n",
       "    </tr>\n",
       "    <tr>\n",
       "      <th>566</th>\n",
       "      <td>1</td>\n",
       "      <td>16.600000</td>\n",
       "      <td>92.084215</td>\n",
       "      <td>858.1</td>\n",
       "      <td>0.10230</td>\n",
       "      <td>0.092510</td>\n",
       "      <td>0.053020</td>\n",
       "      <td>0.456400</td>\n",
       "      <td>3.425000</td>\n",
       "      <td>48.55</td>\n",
       "      <td>18.980000</td>\n",
       "      <td>126.70</td>\n",
       "      <td>1124.000000</td>\n",
       "      <td>0.309400</td>\n",
       "      <td>0.340300</td>\n",
       "      <td>0.141800</td>\n",
       "    </tr>\n",
       "    <tr>\n",
       "      <th>567</th>\n",
       "      <td>1</td>\n",
       "      <td>20.600000</td>\n",
       "      <td>140.100000</td>\n",
       "      <td>1265.0</td>\n",
       "      <td>0.27700</td>\n",
       "      <td>0.351400</td>\n",
       "      <td>0.152000</td>\n",
       "      <td>0.726000</td>\n",
       "      <td>5.772000</td>\n",
       "      <td>86.22</td>\n",
       "      <td>25.740000</td>\n",
       "      <td>184.60</td>\n",
       "      <td>1821.000000</td>\n",
       "      <td>0.868100</td>\n",
       "      <td>0.938700</td>\n",
       "      <td>0.113338</td>\n",
       "    </tr>\n",
       "    <tr>\n",
       "      <th>568</th>\n",
       "      <td>0</td>\n",
       "      <td>7.760000</td>\n",
       "      <td>92.084215</td>\n",
       "      <td>181.0</td>\n",
       "      <td>0.04362</td>\n",
       "      <td>0.000000</td>\n",
       "      <td>0.000000</td>\n",
       "      <td>0.385700</td>\n",
       "      <td>2.548000</td>\n",
       "      <td>19.15</td>\n",
       "      <td>9.456000</td>\n",
       "      <td>59.16</td>\n",
       "      <td>268.600000</td>\n",
       "      <td>0.064440</td>\n",
       "      <td>0.000000</td>\n",
       "      <td>0.000000</td>\n",
       "    </tr>\n",
       "  </tbody>\n",
       "</table>\n",
       "<p>569 rows × 16 columns</p>\n",
       "</div>"
      ],
      "text/plain": [
       "     diagnosis  radius_mean  perimeter_mean  area_mean  compactness_mean  \\\n",
       "0            1    17.990000      122.800000     1001.0           0.27760   \n",
       "1            1    20.570000       92.084215     1326.0           0.10020   \n",
       "2            1    19.690000      130.000000     1203.0           0.15990   \n",
       "3            1    14.216845       77.580000      386.1           0.28390   \n",
       "4            1    20.290000      135.100000     1297.0           0.14570   \n",
       "..         ...          ...             ...        ...               ...   \n",
       "564          1    21.560000       92.084215     1479.0           0.11590   \n",
       "565          1    20.130000      131.200000     1261.0           0.10340   \n",
       "566          1    16.600000       92.084215      858.1           0.10230   \n",
       "567          1    20.600000      140.100000     1265.0           0.27700   \n",
       "568          0     7.760000       92.084215      181.0           0.04362   \n",
       "\n",
       "     concavity_mean  concave points_mean  radius_se  perimeter_se  area_se  \\\n",
       "0          0.087063             0.147100   0.403661      8.589000   153.40   \n",
       "1          0.086900             0.070170   0.543500      2.897406    74.08   \n",
       "2          0.197400             0.127900   0.745600      4.585000    94.03   \n",
       "3          0.241400             0.048771   0.495600      3.445000    27.23   \n",
       "4          0.198000             0.104300   0.757200      5.438000    94.44   \n",
       "..              ...                  ...        ...           ...      ...   \n",
       "564        0.243900             0.138900   1.176000      7.673000   158.70   \n",
       "565        0.144000             0.097910   0.765500      5.203000    99.04   \n",
       "566        0.092510             0.053020   0.456400      3.425000    48.55   \n",
       "567        0.351400             0.152000   0.726000      5.772000    86.22   \n",
       "568        0.000000             0.000000   0.385700      2.548000    19.15   \n",
       "\n",
       "     radius_worst  perimeter_worst   area_worst  compactness_worst  \\\n",
       "0       16.317518           184.60  2019.000000           0.665600   \n",
       "1       24.990000           158.80  1956.000000           0.186600   \n",
       "2       23.570000           152.50   893.560385           0.424500   \n",
       "3       14.910000            98.87   567.700000           0.252812   \n",
       "4       22.540000           152.20  1575.000000           0.205000   \n",
       "..            ...              ...          ...                ...   \n",
       "564     25.450000           166.10   893.560385           0.211300   \n",
       "565     16.317518           155.00  1731.000000           0.192200   \n",
       "566     18.980000           126.70  1124.000000           0.309400   \n",
       "567     25.740000           184.60  1821.000000           0.868100   \n",
       "568      9.456000            59.16   268.600000           0.064440   \n",
       "\n",
       "     concavity_worst  concave points_worst  \n",
       "0           0.711900              0.265400  \n",
       "1           0.241600              0.186000  \n",
       "2           0.271253              0.113338  \n",
       "3           0.686900              0.257500  \n",
       "4           0.400000              0.162500  \n",
       "..               ...                   ...  \n",
       "564         0.410700              0.221600  \n",
       "565         0.321500              0.162800  \n",
       "566         0.340300              0.141800  \n",
       "567         0.938700              0.113338  \n",
       "568         0.000000              0.000000  \n",
       "\n",
       "[569 rows x 16 columns]"
      ]
     },
     "execution_count": 44,
     "metadata": {},
     "output_type": "execute_result"
    }
   ],
   "source": [
    "df = data[relevant_features] #Creating a new dataframe from 'data' which contains only relevant features\n",
    "df"
   ]
  },
  {
   "cell_type": "code",
   "execution_count": 45,
   "id": "a99c0ab7",
   "metadata": {},
   "outputs": [],
   "source": [
    "y = df['diagnosis']#Saving the target variable \n",
    "df = df.drop('diagnosis',axis=1)#Dropping the the target variable"
   ]
  },
  {
   "cell_type": "code",
   "execution_count": 46,
   "id": "d9bfa636",
   "metadata": {},
   "outputs": [
    {
     "data": {
      "text/plain": [
       "Index(['radius_mean', 'perimeter_mean', 'area_mean', 'compactness_mean',\n",
       "       'concavity_mean', 'concave points_mean', 'radius_se', 'perimeter_se',\n",
       "       'area_se', 'radius_worst', 'perimeter_worst', 'area_worst',\n",
       "       'compactness_worst', 'concavity_worst', 'concave points_worst'],\n",
       "      dtype='object')"
      ]
     },
     "execution_count": 46,
     "metadata": {},
     "output_type": "execute_result"
    }
   ],
   "source": [
    "multi = df.corr()\n",
    "multicolinear  = multi[multi>0.5].index#Finding the relevant features that is the features which have a  absolute correlation greater than 0.5\n",
    "multicolinear"
   ]
  },
  {
   "cell_type": "markdown",
   "id": "1035ff26",
   "metadata": {},
   "source": [
    "Inference: We can see that there are features with multicolienarity . So we should use PCA to reduce the dimension and hence remove multicolinearity. Before doing PCA we should stanfardize the features so they will have same variance."
   ]
  },
  {
   "cell_type": "code",
   "execution_count": 47,
   "id": "35176448",
   "metadata": {},
   "outputs": [],
   "source": [
    "#Scaling the data\n",
    "from sklearn.preprocessing import StandardScaler\n",
    "\n",
    "\n",
    "\n",
    "\n",
    "\n",
    "# Scale the independent variables\n",
    "scaler = StandardScaler()\n",
    "X_scaled = scaler.fit_transform(df)\n"
   ]
  },
  {
   "cell_type": "code",
   "execution_count": 48,
   "id": "62c08f76",
   "metadata": {},
   "outputs": [
    {
     "data": {
      "text/html": [
       "<div>\n",
       "<style scoped>\n",
       "    .dataframe tbody tr th:only-of-type {\n",
       "        vertical-align: middle;\n",
       "    }\n",
       "\n",
       "    .dataframe tbody tr th {\n",
       "        vertical-align: top;\n",
       "    }\n",
       "\n",
       "    .dataframe thead th {\n",
       "        text-align: right;\n",
       "    }\n",
       "</style>\n",
       "<table border=\"1\" class=\"dataframe\">\n",
       "  <thead>\n",
       "    <tr style=\"text-align: right;\">\n",
       "      <th></th>\n",
       "      <th>0</th>\n",
       "      <th>1</th>\n",
       "      <th>2</th>\n",
       "      <th>3</th>\n",
       "      <th>4</th>\n",
       "      <th>5</th>\n",
       "      <th>6</th>\n",
       "      <th>7</th>\n",
       "      <th>8</th>\n",
       "      <th>9</th>\n",
       "      <th>10</th>\n",
       "      <th>11</th>\n",
       "      <th>12</th>\n",
       "      <th>13</th>\n",
       "      <th>14</th>\n",
       "    </tr>\n",
       "  </thead>\n",
       "  <tbody>\n",
       "    <tr>\n",
       "      <th>0</th>\n",
       "      <td>1.094114e+00</td>\n",
       "      <td>1.289806e+00</td>\n",
       "      <td>1.036308</td>\n",
       "      <td>3.383696</td>\n",
       "      <td>7.276517e-16</td>\n",
       "      <td>2.584342e+00</td>\n",
       "      <td>8.095870e-16</td>\n",
       "      <td>2.865628e+00</td>\n",
       "      <td>2.525064</td>\n",
       "      <td>-1.546191e-15</td>\n",
       "      <td>2.330668</td>\n",
       "      <td>2.021871</td>\n",
       "      <td>2.709223e+00</td>\n",
       "      <td>2.173580e+00</td>\n",
       "      <td>2.417151e+00</td>\n",
       "    </tr>\n",
       "    <tr>\n",
       "      <th>1</th>\n",
       "      <td>1.842245e+00</td>\n",
       "      <td>2.386949e-15</td>\n",
       "      <td>1.994702</td>\n",
       "      <td>-0.093655</td>\n",
       "      <td>-2.138851e-03</td>\n",
       "      <td>5.624235e-01</td>\n",
       "      <td>5.098597e-01</td>\n",
       "      <td>-1.788736e-15</td>\n",
       "      <td>0.755447</td>\n",
       "      <td>1.887193e+00</td>\n",
       "      <td>1.555301</td>\n",
       "      <td>1.908690</td>\n",
       "      <td>-4.345669e-01</td>\n",
       "      <td>-1.462687e-01</td>\n",
       "      <td>1.155019e+00</td>\n",
       "    </tr>\n",
       "    <tr>\n",
       "      <th>2</th>\n",
       "      <td>1.587069e+00</td>\n",
       "      <td>1.592146e+00</td>\n",
       "      <td>1.631987</td>\n",
       "      <td>1.076570</td>\n",
       "      <td>1.446318e+00</td>\n",
       "      <td>2.079716e+00</td>\n",
       "      <td>1.246727e+00</td>\n",
       "      <td>8.496772e-01</td>\n",
       "      <td>1.200528</td>\n",
       "      <td>1.578191e+00</td>\n",
       "      <td>1.365968</td>\n",
       "      <td>0.000000</td>\n",
       "      <td>1.126827e+00</td>\n",
       "      <td>-2.738199e-16</td>\n",
       "      <td>2.205994e-16</td>\n",
       "    </tr>\n",
       "    <tr>\n",
       "      <th>3</th>\n",
       "      <td>1.545288e-15</td>\n",
       "      <td>-6.090559e-01</td>\n",
       "      <td>-0.776975</td>\n",
       "      <td>3.507187</td>\n",
       "      <td>2.023079e+00</td>\n",
       "      <td>-1.458976e-15</td>\n",
       "      <td>3.352136e-01</td>\n",
       "      <td>2.757051e-01</td>\n",
       "      <td>-0.289770</td>\n",
       "      <td>-3.062858e-01</td>\n",
       "      <td>-0.245772</td>\n",
       "      <td>-0.585414</td>\n",
       "      <td>1.457331e-15</td>\n",
       "      <td>2.050263e+00</td>\n",
       "      <td>2.291573e+00</td>\n",
       "    </tr>\n",
       "    <tr>\n",
       "      <th>4</th>\n",
       "      <td>1.761053e+00</td>\n",
       "      <td>1.806304e+00</td>\n",
       "      <td>1.909184</td>\n",
       "      <td>0.798225</td>\n",
       "      <td>1.454183e+00</td>\n",
       "      <td>1.459448e+00</td>\n",
       "      <td>1.289022e+00</td>\n",
       "      <td>1.279149e+00</td>\n",
       "      <td>1.209675</td>\n",
       "      <td>1.354056e+00</td>\n",
       "      <td>1.356952</td>\n",
       "      <td>1.224218</td>\n",
       "      <td>-3.138034e-01</td>\n",
       "      <td>6.350710e-01</td>\n",
       "      <td>7.814663e-01</td>\n",
       "    </tr>\n",
       "  </tbody>\n",
       "</table>\n",
       "</div>"
      ],
      "text/plain": [
       "             0             1         2         3             4             5   \\\n",
       "0  1.094114e+00  1.289806e+00  1.036308  3.383696  7.276517e-16  2.584342e+00   \n",
       "1  1.842245e+00  2.386949e-15  1.994702 -0.093655 -2.138851e-03  5.624235e-01   \n",
       "2  1.587069e+00  1.592146e+00  1.631987  1.076570  1.446318e+00  2.079716e+00   \n",
       "3  1.545288e-15 -6.090559e-01 -0.776975  3.507187  2.023079e+00 -1.458976e-15   \n",
       "4  1.761053e+00  1.806304e+00  1.909184  0.798225  1.454183e+00  1.459448e+00   \n",
       "\n",
       "             6             7         8             9         10        11  \\\n",
       "0  8.095870e-16  2.865628e+00  2.525064 -1.546191e-15  2.330668  2.021871   \n",
       "1  5.098597e-01 -1.788736e-15  0.755447  1.887193e+00  1.555301  1.908690   \n",
       "2  1.246727e+00  8.496772e-01  1.200528  1.578191e+00  1.365968  0.000000   \n",
       "3  3.352136e-01  2.757051e-01 -0.289770 -3.062858e-01 -0.245772 -0.585414   \n",
       "4  1.289022e+00  1.279149e+00  1.209675  1.354056e+00  1.356952  1.224218   \n",
       "\n",
       "             12            13            14  \n",
       "0  2.709223e+00  2.173580e+00  2.417151e+00  \n",
       "1 -4.345669e-01 -1.462687e-01  1.155019e+00  \n",
       "2  1.126827e+00 -2.738199e-16  2.205994e-16  \n",
       "3  1.457331e-15  2.050263e+00  2.291573e+00  \n",
       "4 -3.138034e-01  6.350710e-01  7.814663e-01  "
      ]
     },
     "execution_count": 48,
     "metadata": {},
     "output_type": "execute_result"
    }
   ],
   "source": [
    "#After scaling the resulting data structure will be a numpy array. So we are converting it back to dataframe\n",
    "X = pd.DataFrame(X_scaled)\n",
    "X.head()"
   ]
  },
  {
   "cell_type": "code",
   "execution_count": 49,
   "id": "f4ae3fbc",
   "metadata": {},
   "outputs": [
    {
     "data": {
      "text/plain": [
       "array([[ 0.28025288,  0.28414075,  0.27549136,  0.21869128,  0.25852858,\n",
       "         0.28305042,  0.24246374,  0.24500398,  0.24646313,  0.2764187 ,\n",
       "         0.29100143,  0.27885353,  0.18904781,  0.21872652,  0.26087919],\n",
       "       [ 0.15304849,  0.12703675,  0.19233298, -0.38028353, -0.25012608,\n",
       "        -0.1129544 ,  0.25706867,  0.21113261,  0.26762212,  0.13047711,\n",
       "         0.09650624,  0.17564531, -0.47679403, -0.42318524, -0.24003823],\n",
       "       [-0.26933894, -0.24632553, -0.21215474,  0.20420022,  0.15381659,\n",
       "         0.01119767,  0.45490352,  0.47978197,  0.38448483, -0.27606291,\n",
       "        -0.21505305, -0.1785419 ,  0.03957473,  0.02929505, -0.12071175],\n",
       "       [ 0.1470799 ,  0.14762195,  0.11796032,  0.30160804,  0.43069064,\n",
       "         0.42912989, -0.06718215, -0.11874158, -0.15041749, -0.15825774,\n",
       "        -0.15872171, -0.21029468, -0.53672236, -0.14034132, -0.19641635],\n",
       "       [-0.038082  , -0.11377359, -0.03642998, -0.61947854,  0.44165377,\n",
       "        -0.05864069,  0.05540726, -0.04864666,  0.03646393,  0.09225592,\n",
       "        -0.06977743, -0.00991925, -0.24928807,  0.5653379 ,  0.00563315]])"
      ]
     },
     "execution_count": 49,
     "metadata": {},
     "output_type": "execute_result"
    }
   ],
   "source": [
    "from sklearn.decomposition import PCA\n",
    "\n",
    "# Apply PCA to the scaled independent variables\n",
    "pca = PCA(n_components=5)\n",
    "pca.fit(X)\n",
    "\n",
    "# Get the principal components\n",
    "components = pca.components_\n",
    "\n",
    "# Get the explained variance ratios\n",
    "explained_variance_ratios = pca.explained_variance_ratio_\n",
    "components"
   ]
  },
  {
   "cell_type": "code",
   "execution_count": 50,
   "id": "f924f384",
   "metadata": {},
   "outputs": [
    {
     "data": {
      "text/plain": [
       "array([0.70374779, 0.1386346 , 0.06617466, 0.02085245, 0.01650623])"
      ]
     },
     "execution_count": 50,
     "metadata": {},
     "output_type": "execute_result"
    }
   ],
   "source": [
    "explained_variance_ratios"
   ]
  },
  {
   "cell_type": "code",
   "execution_count": 51,
   "id": "7d2b0524",
   "metadata": {},
   "outputs": [],
   "source": [
    "X_transformed =  pca.transform(X_scaled)#Transforming using PCA\n",
    "\n",
    "X_transformed = pd.DataFrame(X_transformed)"
   ]
  },
  {
   "cell_type": "code",
   "execution_count": 52,
   "id": "c3946bf0",
   "metadata": {},
   "outputs": [],
   "source": [
    "#X_transformed.to_csv(\"BreastCancerPredictionEDA.csv\")"
   ]
  },
  {
   "cell_type": "code",
   "execution_count": 53,
   "id": "cf463e53",
   "metadata": {},
   "outputs": [],
   "source": [
    "from sklearn.model_selection import train_test_split"
   ]
  },
  {
   "cell_type": "code",
   "execution_count": 54,
   "id": "b18be3b6",
   "metadata": {},
   "outputs": [],
   "source": [
    "X_train, X_test, y_train, y_test = train_test_split(X_transformed, y, test_size=0.2, random_state=42)\n"
   ]
  },
  {
   "cell_type": "code",
   "execution_count": 55,
   "id": "2cf84282",
   "metadata": {},
   "outputs": [
    {
     "data": {
      "text/plain": [
       "GaussianNB()"
      ]
     },
     "execution_count": 55,
     "metadata": {},
     "output_type": "execute_result"
    }
   ],
   "source": [
    "from sklearn.naive_bayes import GaussianNB\n",
    "\n",
    "# Train a Naive Bayes classifier on the training set\n",
    "model = GaussianNB()\n",
    "model.fit(X_train, y_train)\n"
   ]
  },
  {
   "cell_type": "code",
   "execution_count": 56,
   "id": "d5d4756d",
   "metadata": {},
   "outputs": [],
   "source": [
    "predictions = model.predict(X_test)"
   ]
  },
  {
   "cell_type": "code",
   "execution_count": 57,
   "id": "e6c99b37",
   "metadata": {},
   "outputs": [
    {
     "name": "stdout",
     "output_type": "stream",
     "text": [
      "Accuracy: 0.956140350877193\n"
     ]
    }
   ],
   "source": [
    "from sklearn.metrics import accuracy_score, precision_score, recall_score, f1_score\n",
    "\n",
    "# Calculate accuracy\n",
    "accuracy = accuracy_score(y_test, predictions)\n",
    "\n",
    "# Calculate precision\n",
    "precision = precision_score(y_test, predictions)\n",
    "\n",
    "# Calculate recall\n",
    "recall = recall_score(y_test, predictions)\n",
    "\n",
    "# Calculate F1 score\n",
    "f1 = f1_score(y_test, predictions)\n",
    "\n",
    "# Display the evaluation metrics\n",
    "print('Accuracy:', accuracy)\n",
    "\n"
   ]
  },
  {
   "cell_type": "code",
   "execution_count": 58,
   "id": "2aa0e8c0",
   "metadata": {},
   "outputs": [
    {
     "data": {
      "image/png": "[encoded data removed]",
      "text/plain": [
       "<Figure size 432x288 with 2 Axes>"
      ]
     },
     "metadata": {
      "needs_background": "light"
     },
     "output_type": "display_data"
    }
   ],
   "source": [
    "from sklearn.metrics import confusion_matrix, plot_confusion_matrix\n",
    "\n",
    "# Compute the confusion matrix\n",
    "cm = confusion_matrix(y_test, predictions)\n",
    "\n",
    "# Plot the confusion matrix\n",
    "plot_confusion_matrix(model, X_test, y_test)\n",
    "plt.show()\n"
   ]
  },
  {
   "cell_type": "code",
   "execution_count": 59,
   "id": "1446a61c",
   "metadata": {},
   "outputs": [
    {
     "data": {
      "image/png": "[encoded data removed]",
      "text/plain": [
       "<Figure size 432x288 with 1 Axes>"
      ]
     },
     "metadata": {
      "needs_background": "light"
     },
     "output_type": "display_data"
    }
   ],
   "source": [
    "from sklearn.metrics import roc_curve, plot_roc_curve\n",
    "\n",
    "# Compute the ROC curve\n",
    "fpr, tpr, thresholds = roc_curve(y_test, predictions)\n",
    "\n",
    "# Plot the ROC curve\n",
    "plot_roc_curve(model, X_test, y_test)\n",
    "plt.show()\n"
   ]
  },
  {
   "cell_type": "code",
   "execution_count": 60,
   "id": "02c14ac7",
   "metadata": {},
   "outputs": [
    {
     "data": {
      "image/png": "[encoded data removed]",
      "text/plain": [
       "<Figure size 432x288 with 1 Axes>"
      ]
     },
     "metadata": {
      "needs_background": "light"
     },
     "output_type": "display_data"
    }
   ],
   "source": [
    "from sklearn.metrics import precision_recall_curve, plot_precision_recall_curve\n",
    "\n",
    "# Compute the precision-recall curve\n",
    "precision, recall, thresholds = precision_recall_curve(y_test, predictions)\n",
    "\n",
    "# Plot the precision-recall curve\n",
    "plot_precision_recall_curve(model, X_test, y_test)\n",
    "plt.show()\n"
   ]
  }
 ],
 "metadata": {
  "kernelspec": {
   "display_name": "Python 3 (ipykernel)",
   "language": "python",
   "name": "python3"
  },
  "language_info": {
   "codemirror_mode": {
    "name": "ipython",
    "version": 3
   },
   "file_extension": ".py",
   "mimetype": "text/x-python",
   "name": "python",
   "nbconvert_exporter": "python",
   "pygments_lexer": "ipython3",
   "version": "3.9.7"
  }
 },
 "nbformat": 4,
 "nbformat_minor": 5
}
